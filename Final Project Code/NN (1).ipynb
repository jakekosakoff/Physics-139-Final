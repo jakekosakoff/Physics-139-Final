{
 "cells": [
  {
   "cell_type": "markdown",
   "id": "675edf3b",
   "metadata": {},
   "source": [
    "# Import Data"
   ]
  },
  {
   "cell_type": "code",
   "execution_count": 2,
   "id": "b7200de6",
   "metadata": {},
   "outputs": [
    {
     "name": "stderr",
     "output_type": "stream",
     "text": [
      "2024-05-28 15:15:58.301432: I tensorflow/core/platform/cpu_feature_guard.cc:210] This TensorFlow binary is optimized to use available CPU instructions in performance-critical operations.\n",
      "To enable the following instructions: AVX2 FMA, in other operations, rebuild TensorFlow with the appropriate compiler flags.\n"
     ]
    }
   ],
   "source": [
    "import numpy as np\n",
    "import pandas as pd\n",
    "from sklearn.model_selection import train_test_split\n",
    "from sklearn.preprocessing import StandardScaler\n",
    "\n",
    "from tensorflow.keras.utils import to_categorical\n",
    "from sklearn.datasets import fetch_openml\n",
    "\n",
    "from tensorflow.keras.models import Sequential\n",
    "from tensorflow.keras.layers import Dense, Activation, BatchNormalization\n",
    "from tensorflow.keras.optimizers import Adam\n",
    "from tensorflow.keras.regularizers import l1\n",
    "\n",
    "import matplotlib.pyplot as plt\n",
    "import numpy as np\n",
    "import tensorflow as tf\n",
    "\n",
    "random_state = 3"
   ]
  },
  {
   "cell_type": "code",
   "execution_count": 3,
   "id": "84dac3ce",
   "metadata": {},
   "outputs": [],
   "source": [
    "def plot_model_history(history):\n",
    "    \"\"\"Plot the training and validation history for a TensorFlow network\"\"\"\n",
    "\n",
    "    # Extract loss and accuracy\n",
    "    loss = history.history[\"loss\"]\n",
    "    val_loss = history.history[\"val_loss\"]\n",
    "    acc = history.history[\"MAPE\"]\n",
    "    val_acc = history.history[\"val_MAPE\"]\n",
    "    n_epochs = len(loss)\n",
    "\n",
    "    fig, ax = plt.subplots(nrows=1, ncols=2, figsize=(10, 5))\n",
    "    ax[0].plot(np.arange(n_epochs), loss, label=\"Training\")\n",
    "    ax[0].plot(np.arange(n_epochs), val_loss, label=\"Validation\")\n",
    "    ax[0].legend()\n",
    "    ax[0].set_xlabel(\"Epoch\")\n",
    "    ax[0].set_ylabel(\"Loss\")\n",
    "\n",
    "    ax[1].plot(np.arange(n_epochs), acc, label=\"Training\")\n",
    "    ax[1].plot(np.arange(n_epochs), val_acc, label=\"Validation\")\n",
    "    ax[1].legend()\n",
    "    ax[1].set_xlabel(\"Epoch\")\n",
    "    ax[1].set_ylabel(\"Mean Absolute Percent Error\")\n"
   ]
  },
  {
   "cell_type": "code",
   "execution_count": 5,
   "id": "1e74786f",
   "metadata": {},
   "outputs": [
    {
     "data": {
      "text/html": [
       "<div>\n",
       "<style scoped>\n",
       "    .dataframe tbody tr th:only-of-type {\n",
       "        vertical-align: middle;\n",
       "    }\n",
       "\n",
       "    .dataframe tbody tr th {\n",
       "        vertical-align: top;\n",
       "    }\n",
       "\n",
       "    .dataframe thead th {\n",
       "        text-align: right;\n",
       "    }\n",
       "</style>\n",
       "<table border=\"1\" class=\"dataframe\">\n",
       "  <thead>\n",
       "    <tr style=\"text-align: right;\">\n",
       "      <th></th>\n",
       "      <th>Index</th>\n",
       "      <th>DT</th>\n",
       "      <th>Energy</th>\n",
       "      <th>Jan</th>\n",
       "      <th>Feb</th>\n",
       "      <th>Mar</th>\n",
       "      <th>Apr</th>\n",
       "      <th>May</th>\n",
       "      <th>Jun</th>\n",
       "      <th>Jul</th>\n",
       "      <th>...</th>\n",
       "      <th>BankHols</th>\n",
       "      <th>RetailHols</th>\n",
       "      <th>WkBeforeXMas</th>\n",
       "      <th>WkAfterXMas</th>\n",
       "      <th>Trend2010</th>\n",
       "      <th>AvgDB</th>\n",
       "      <th>LagDB</th>\n",
       "      <th>Lag2DB</th>\n",
       "      <th>AvgWind</th>\n",
       "      <th>AvgClouds</th>\n",
       "    </tr>\n",
       "  </thead>\n",
       "  <tbody>\n",
       "    <tr>\n",
       "      <th>0</th>\n",
       "      <td>0</td>\n",
       "      <td>1/1/17</td>\n",
       "      <td>242.69</td>\n",
       "      <td>1.0</td>\n",
       "      <td>0.0</td>\n",
       "      <td>0.0</td>\n",
       "      <td>0.0</td>\n",
       "      <td>0.0</td>\n",
       "      <td>0.0</td>\n",
       "      <td>0.0</td>\n",
       "      <td>...</td>\n",
       "      <td>0.0</td>\n",
       "      <td>0.0</td>\n",
       "      <td>0.0</td>\n",
       "      <td>0.0</td>\n",
       "      <td>7.00</td>\n",
       "      <td>46.77</td>\n",
       "      <td>36.66</td>\n",
       "      <td>36.72</td>\n",
       "      <td>5.24</td>\n",
       "      <td>4.39</td>\n",
       "    </tr>\n",
       "    <tr>\n",
       "      <th>1</th>\n",
       "      <td>1</td>\n",
       "      <td>1/2/17</td>\n",
       "      <td>257.06</td>\n",
       "      <td>1.0</td>\n",
       "      <td>0.0</td>\n",
       "      <td>0.0</td>\n",
       "      <td>0.0</td>\n",
       "      <td>0.0</td>\n",
       "      <td>0.0</td>\n",
       "      <td>0.0</td>\n",
       "      <td>...</td>\n",
       "      <td>0.0</td>\n",
       "      <td>0.0</td>\n",
       "      <td>0.0</td>\n",
       "      <td>0.0</td>\n",
       "      <td>7.01</td>\n",
       "      <td>45.10</td>\n",
       "      <td>46.77</td>\n",
       "      <td>36.66</td>\n",
       "      <td>5.66</td>\n",
       "      <td>8.00</td>\n",
       "    </tr>\n",
       "    <tr>\n",
       "      <th>2</th>\n",
       "      <td>2</td>\n",
       "      <td>1/3/17</td>\n",
       "      <td>265.35</td>\n",
       "      <td>1.0</td>\n",
       "      <td>0.0</td>\n",
       "      <td>0.0</td>\n",
       "      <td>0.0</td>\n",
       "      <td>0.0</td>\n",
       "      <td>0.0</td>\n",
       "      <td>0.0</td>\n",
       "      <td>...</td>\n",
       "      <td>0.0</td>\n",
       "      <td>0.0</td>\n",
       "      <td>0.0</td>\n",
       "      <td>0.0</td>\n",
       "      <td>7.01</td>\n",
       "      <td>45.37</td>\n",
       "      <td>45.10</td>\n",
       "      <td>46.77</td>\n",
       "      <td>5.63</td>\n",
       "      <td>7.75</td>\n",
       "    </tr>\n",
       "    <tr>\n",
       "      <th>3</th>\n",
       "      <td>3</td>\n",
       "      <td>1/4/17</td>\n",
       "      <td>253.79</td>\n",
       "      <td>1.0</td>\n",
       "      <td>0.0</td>\n",
       "      <td>0.0</td>\n",
       "      <td>0.0</td>\n",
       "      <td>0.0</td>\n",
       "      <td>0.0</td>\n",
       "      <td>0.0</td>\n",
       "      <td>...</td>\n",
       "      <td>0.0</td>\n",
       "      <td>0.0</td>\n",
       "      <td>0.0</td>\n",
       "      <td>0.0</td>\n",
       "      <td>7.01</td>\n",
       "      <td>48.87</td>\n",
       "      <td>45.37</td>\n",
       "      <td>45.10</td>\n",
       "      <td>8.61</td>\n",
       "      <td>3.71</td>\n",
       "    </tr>\n",
       "    <tr>\n",
       "      <th>4</th>\n",
       "      <td>4</td>\n",
       "      <td>1/5/17</td>\n",
       "      <td>305.91</td>\n",
       "      <td>1.0</td>\n",
       "      <td>0.0</td>\n",
       "      <td>0.0</td>\n",
       "      <td>0.0</td>\n",
       "      <td>0.0</td>\n",
       "      <td>0.0</td>\n",
       "      <td>0.0</td>\n",
       "      <td>...</td>\n",
       "      <td>0.0</td>\n",
       "      <td>0.0</td>\n",
       "      <td>0.0</td>\n",
       "      <td>0.0</td>\n",
       "      <td>7.01</td>\n",
       "      <td>34.49</td>\n",
       "      <td>48.87</td>\n",
       "      <td>45.37</td>\n",
       "      <td>3.84</td>\n",
       "      <td>6.06</td>\n",
       "    </tr>\n",
       "    <tr>\n",
       "      <th>...</th>\n",
       "      <td>...</td>\n",
       "      <td>...</td>\n",
       "      <td>...</td>\n",
       "      <td>...</td>\n",
       "      <td>...</td>\n",
       "      <td>...</td>\n",
       "      <td>...</td>\n",
       "      <td>...</td>\n",
       "      <td>...</td>\n",
       "      <td>...</td>\n",
       "      <td>...</td>\n",
       "      <td>...</td>\n",
       "      <td>...</td>\n",
       "      <td>...</td>\n",
       "      <td>...</td>\n",
       "      <td>...</td>\n",
       "      <td>...</td>\n",
       "      <td>...</td>\n",
       "      <td>...</td>\n",
       "      <td>...</td>\n",
       "      <td>...</td>\n",
       "    </tr>\n",
       "    <tr>\n",
       "      <th>1090</th>\n",
       "      <td>1090</td>\n",
       "      <td>12/27/19</td>\n",
       "      <td>262.49</td>\n",
       "      <td>0.0</td>\n",
       "      <td>0.0</td>\n",
       "      <td>0.0</td>\n",
       "      <td>0.0</td>\n",
       "      <td>0.0</td>\n",
       "      <td>0.0</td>\n",
       "      <td>0.0</td>\n",
       "      <td>...</td>\n",
       "      <td>0.0</td>\n",
       "      <td>0.0</td>\n",
       "      <td>0.0</td>\n",
       "      <td>1.0</td>\n",
       "      <td>9.99</td>\n",
       "      <td>47.83</td>\n",
       "      <td>43.47</td>\n",
       "      <td>39.38</td>\n",
       "      <td>2.08</td>\n",
       "      <td>3.76</td>\n",
       "    </tr>\n",
       "    <tr>\n",
       "      <th>1091</th>\n",
       "      <td>1091</td>\n",
       "      <td>12/28/19</td>\n",
       "      <td>238.96</td>\n",
       "      <td>0.0</td>\n",
       "      <td>0.0</td>\n",
       "      <td>0.0</td>\n",
       "      <td>0.0</td>\n",
       "      <td>0.0</td>\n",
       "      <td>0.0</td>\n",
       "      <td>0.0</td>\n",
       "      <td>...</td>\n",
       "      <td>0.0</td>\n",
       "      <td>0.0</td>\n",
       "      <td>0.0</td>\n",
       "      <td>0.0</td>\n",
       "      <td>9.99</td>\n",
       "      <td>51.19</td>\n",
       "      <td>47.83</td>\n",
       "      <td>43.47</td>\n",
       "      <td>1.76</td>\n",
       "      <td>1.86</td>\n",
       "    </tr>\n",
       "    <tr>\n",
       "      <th>1092</th>\n",
       "      <td>1092</td>\n",
       "      <td>12/29/19</td>\n",
       "      <td>240.27</td>\n",
       "      <td>0.0</td>\n",
       "      <td>0.0</td>\n",
       "      <td>0.0</td>\n",
       "      <td>0.0</td>\n",
       "      <td>0.0</td>\n",
       "      <td>0.0</td>\n",
       "      <td>0.0</td>\n",
       "      <td>...</td>\n",
       "      <td>0.0</td>\n",
       "      <td>0.0</td>\n",
       "      <td>0.0</td>\n",
       "      <td>0.0</td>\n",
       "      <td>9.99</td>\n",
       "      <td>53.24</td>\n",
       "      <td>51.19</td>\n",
       "      <td>47.83</td>\n",
       "      <td>3.33</td>\n",
       "      <td>7.78</td>\n",
       "    </tr>\n",
       "    <tr>\n",
       "      <th>1093</th>\n",
       "      <td>1093</td>\n",
       "      <td>12/30/19</td>\n",
       "      <td>235.10</td>\n",
       "      <td>0.0</td>\n",
       "      <td>0.0</td>\n",
       "      <td>0.0</td>\n",
       "      <td>0.0</td>\n",
       "      <td>0.0</td>\n",
       "      <td>0.0</td>\n",
       "      <td>0.0</td>\n",
       "      <td>...</td>\n",
       "      <td>0.0</td>\n",
       "      <td>0.0</td>\n",
       "      <td>0.0</td>\n",
       "      <td>1.0</td>\n",
       "      <td>10.00</td>\n",
       "      <td>62.12</td>\n",
       "      <td>53.24</td>\n",
       "      <td>51.19</td>\n",
       "      <td>9.17</td>\n",
       "      <td>3.87</td>\n",
       "    </tr>\n",
       "    <tr>\n",
       "      <th>1094</th>\n",
       "      <td>1094</td>\n",
       "      <td>12/31/19</td>\n",
       "      <td>249.39</td>\n",
       "      <td>0.0</td>\n",
       "      <td>0.0</td>\n",
       "      <td>0.0</td>\n",
       "      <td>0.0</td>\n",
       "      <td>0.0</td>\n",
       "      <td>0.0</td>\n",
       "      <td>0.0</td>\n",
       "      <td>...</td>\n",
       "      <td>0.0</td>\n",
       "      <td>0.0</td>\n",
       "      <td>0.0</td>\n",
       "      <td>1.0</td>\n",
       "      <td>10.00</td>\n",
       "      <td>46.98</td>\n",
       "      <td>62.12</td>\n",
       "      <td>53.24</td>\n",
       "      <td>6.15</td>\n",
       "      <td>3.45</td>\n",
       "    </tr>\n",
       "  </tbody>\n",
       "</table>\n",
       "<p>1095 rows × 30 columns</p>\n",
       "</div>"
      ],
      "text/plain": [
       "      Index        DT  Energy  Jan  Feb  Mar  Apr  May  Jun  Jul  ...  \\\n",
       "0         0    1/1/17  242.69  1.0  0.0  0.0  0.0  0.0  0.0  0.0  ...   \n",
       "1         1    1/2/17  257.06  1.0  0.0  0.0  0.0  0.0  0.0  0.0  ...   \n",
       "2         2    1/3/17  265.35  1.0  0.0  0.0  0.0  0.0  0.0  0.0  ...   \n",
       "3         3    1/4/17  253.79  1.0  0.0  0.0  0.0  0.0  0.0  0.0  ...   \n",
       "4         4    1/5/17  305.91  1.0  0.0  0.0  0.0  0.0  0.0  0.0  ...   \n",
       "...     ...       ...     ...  ...  ...  ...  ...  ...  ...  ...  ...   \n",
       "1090   1090  12/27/19  262.49  0.0  0.0  0.0  0.0  0.0  0.0  0.0  ...   \n",
       "1091   1091  12/28/19  238.96  0.0  0.0  0.0  0.0  0.0  0.0  0.0  ...   \n",
       "1092   1092  12/29/19  240.27  0.0  0.0  0.0  0.0  0.0  0.0  0.0  ...   \n",
       "1093   1093  12/30/19  235.10  0.0  0.0  0.0  0.0  0.0  0.0  0.0  ...   \n",
       "1094   1094  12/31/19  249.39  0.0  0.0  0.0  0.0  0.0  0.0  0.0  ...   \n",
       "\n",
       "      BankHols  RetailHols  WkBeforeXMas  WkAfterXMas  Trend2010  AvgDB  \\\n",
       "0          0.0         0.0           0.0          0.0       7.00  46.77   \n",
       "1          0.0         0.0           0.0          0.0       7.01  45.10   \n",
       "2          0.0         0.0           0.0          0.0       7.01  45.37   \n",
       "3          0.0         0.0           0.0          0.0       7.01  48.87   \n",
       "4          0.0         0.0           0.0          0.0       7.01  34.49   \n",
       "...        ...         ...           ...          ...        ...    ...   \n",
       "1090       0.0         0.0           0.0          1.0       9.99  47.83   \n",
       "1091       0.0         0.0           0.0          0.0       9.99  51.19   \n",
       "1092       0.0         0.0           0.0          0.0       9.99  53.24   \n",
       "1093       0.0         0.0           0.0          1.0      10.00  62.12   \n",
       "1094       0.0         0.0           0.0          1.0      10.00  46.98   \n",
       "\n",
       "      LagDB  Lag2DB  AvgWind  AvgClouds  \n",
       "0     36.66   36.72     5.24       4.39  \n",
       "1     46.77   36.66     5.66       8.00  \n",
       "2     45.10   46.77     5.63       7.75  \n",
       "3     45.37   45.10     8.61       3.71  \n",
       "4     48.87   45.37     3.84       6.06  \n",
       "...     ...     ...      ...        ...  \n",
       "1090  43.47   39.38     2.08       3.76  \n",
       "1091  47.83   43.47     1.76       1.86  \n",
       "1092  51.19   47.83     3.33       7.78  \n",
       "1093  53.24   51.19     9.17       3.87  \n",
       "1094  62.12   53.24     6.15       3.45  \n",
       "\n",
       "[1095 rows x 30 columns]"
      ]
     },
     "execution_count": 5,
     "metadata": {},
     "output_type": "execute_result"
    }
   ],
   "source": [
    "NN_data = pd.read_csv(\"Data/NNData.csv\")\n",
    "NN_data"
   ]
  },
  {
   "cell_type": "code",
   "execution_count": 6,
   "id": "a6bca7ef",
   "metadata": {
    "scrolled": true
   },
   "outputs": [],
   "source": [
    "X = NN_data.values[:,3:]\n",
    "y = NN_data.values[:,2]\n",
    "X_train_val, X_test, y_train_val, y_test = train_test_split(X, y, test_size=0.1, random_state=random_state)"
   ]
  },
  {
   "cell_type": "code",
   "execution_count": 7,
   "id": "2d7e2c8c",
   "metadata": {},
   "outputs": [
    {
     "data": {
      "text/plain": [
       "(array([109., 210., 223., 192., 138.,  77.,  21.,   6.,   6.,   3.]),\n",
       " array([200.13 , 225.726, 251.322, 276.918, 302.514, 328.11 , 353.706,\n",
       "        379.302, 404.898, 430.494, 456.09 ]),\n",
       " <BarContainer object of 10 artists>)"
      ]
     },
     "execution_count": 7,
     "metadata": {},
     "output_type": "execute_result"
    },
    {
     "data": {
      "image/png": "[encoded data removed]",
      "text/plain": [
       "<Figure size 640x480 with 1 Axes>"
      ]
     },
     "metadata": {},
     "output_type": "display_data"
    }
   ],
   "source": [
    "plt.hist(y_train_val)"
   ]
  },
  {
   "cell_type": "code",
   "execution_count": 8,
   "id": "880ed71e",
   "metadata": {},
   "outputs": [],
   "source": [
    "X_train_two = np.asarray(X_train_val).astype('float32')\n",
    "scaler_x = StandardScaler()\n",
    "X_train_two = scaler_x.fit_transform(X_train_two)\n",
    "X_test_two = np.asarray(X_test).astype('float32')\n",
    "X_test_two = scaler_x.transform(X_test_two)\n",
    "\n",
    "\n",
    "y_train_two = np.asarray(y_train_val).astype('float32').reshape(-1, 1)\n",
    "scaler_y = StandardScaler()\n",
    "y_train_two = scaler_y.fit_transform(y_train_two)\n",
    "y_test_two = np.asarray(y_test).astype('float32')\n",
    "#y_test_two = scaler_y.transform(y_test_two)"
   ]
  },
  {
   "cell_type": "code",
   "execution_count": 7,
   "id": "bcb8668e",
   "metadata": {},
   "outputs": [],
   "source": [
    "#X_train_two[:,26]"
   ]
  },
  {
   "cell_type": "raw",
   "id": "4cd1f3b3",
   "metadata": {},
   "source": [
    "# Model"
   ]
  },
  {
   "cell_type": "code",
   "execution_count": 9,
   "id": "250cd000",
   "metadata": {},
   "outputs": [
    {
     "name": "stdout",
     "output_type": "stream",
     "text": [
      "(985, 27)\n",
      "(985, 1)\n"
     ]
    }
   ],
   "source": [
    "print(np.shape(X_train_two))\n",
    "print(np.shape(y_train_two))"
   ]
  },
  {
   "cell_type": "code",
   "execution_count": 76,
   "id": "9e6aae0a",
   "metadata": {},
   "outputs": [],
   "source": [
    "#print(y_train_two)"
   ]
  },
  {
   "cell_type": "code",
   "execution_count": 10,
   "id": "46b9c650",
   "metadata": {},
   "outputs": [
    {
     "name": "stderr",
     "output_type": "stream",
     "text": [
      "/Library/Frameworks/Python.framework/Versions/3.11/lib/python3.11/site-packages/keras/src/layers/core/dense.py:87: UserWarning: Do not pass an `input_shape`/`input_dim` argument to a layer. When using Sequential models, prefer using an `Input(shape)` object as the first layer in the model instead.\n",
      "  super().__init__(activity_regularizer=activity_regularizer, **kwargs)\n"
     ]
    },
    {
     "data": {
      "text/html": [
       "<pre style=\"white-space:pre;overflow-x:auto;line-height:normal;font-family:Menlo,'DejaVu Sans Mono',consolas,'Courier New',monospace\"><span style=\"font-weight: bold\">Model: \"sequantial1\"</span>\n",
       "</pre>\n"
      ],
      "text/plain": [
       "\u001b[1mModel: \"sequantial1\"\u001b[0m\n"
      ]
     },
     "metadata": {},
     "output_type": "display_data"
    },
    {
     "data": {
      "text/html": [
       "<pre style=\"white-space:pre;overflow-x:auto;line-height:normal;font-family:Menlo,'DejaVu Sans Mono',consolas,'Courier New',monospace\">┏━━━━━━━━━━━━━━━━━━━━━━━━━━━━━━━━━┳━━━━━━━━━━━━━━━━━━━━━━━━┳━━━━━━━━━━━━━━━┓\n",
       "┃<span style=\"font-weight: bold\"> Layer (type)                    </span>┃<span style=\"font-weight: bold\"> Output Shape           </span>┃<span style=\"font-weight: bold\">       Param # </span>┃\n",
       "┡━━━━━━━━━━━━━━━━━━━━━━━━━━━━━━━━━╇━━━━━━━━━━━━━━━━━━━━━━━━╇━━━━━━━━━━━━━━━┩\n",
       "│ fc1 (<span style=\"color: #0087ff; text-decoration-color: #0087ff\">Dense</span>)                     │ (<span style=\"color: #00d7ff; text-decoration-color: #00d7ff\">None</span>, <span style=\"color: #00af00; text-decoration-color: #00af00\">5</span>)              │           <span style=\"color: #00af00; text-decoration-color: #00af00\">140</span> │\n",
       "├─────────────────────────────────┼────────────────────────┼───────────────┤\n",
       "│ relu2 (<span style=\"color: #0087ff; text-decoration-color: #0087ff\">Activation</span>)              │ (<span style=\"color: #00d7ff; text-decoration-color: #00d7ff\">None</span>, <span style=\"color: #00af00; text-decoration-color: #00af00\">5</span>)              │             <span style=\"color: #00af00; text-decoration-color: #00af00\">0</span> │\n",
       "├─────────────────────────────────┼────────────────────────┼───────────────┤\n",
       "│ fc4 (<span style=\"color: #0087ff; text-decoration-color: #0087ff\">Dense</span>)                     │ (<span style=\"color: #00d7ff; text-decoration-color: #00d7ff\">None</span>, <span style=\"color: #00af00; text-decoration-color: #00af00\">1</span>)              │             <span style=\"color: #00af00; text-decoration-color: #00af00\">6</span> │\n",
       "└─────────────────────────────────┴────────────────────────┴───────────────┘\n",
       "</pre>\n"
      ],
      "text/plain": [
       "┏━━━━━━━━━━━━━━━━━━━━━━━━━━━━━━━━━┳━━━━━━━━━━━━━━━━━━━━━━━━┳━━━━━━━━━━━━━━━┓\n",
       "┃\u001b[1m \u001b[0m\u001b[1mLayer (type)                   \u001b[0m\u001b[1m \u001b[0m┃\u001b[1m \u001b[0m\u001b[1mOutput Shape          \u001b[0m\u001b[1m \u001b[0m┃\u001b[1m \u001b[0m\u001b[1m      Param #\u001b[0m\u001b[1m \u001b[0m┃\n",
       "┡━━━━━━━━━━━━━━━━━━━━━━━━━━━━━━━━━╇━━━━━━━━━━━━━━━━━━━━━━━━╇━━━━━━━━━━━━━━━┩\n",
       "│ fc1 (\u001b[38;5;33mDense\u001b[0m)                     │ (\u001b[38;5;45mNone\u001b[0m, \u001b[38;5;34m5\u001b[0m)              │           \u001b[38;5;34m140\u001b[0m │\n",
       "├─────────────────────────────────┼────────────────────────┼───────────────┤\n",
       "│ relu2 (\u001b[38;5;33mActivation\u001b[0m)              │ (\u001b[38;5;45mNone\u001b[0m, \u001b[38;5;34m5\u001b[0m)              │             \u001b[38;5;34m0\u001b[0m │\n",
       "├─────────────────────────────────┼────────────────────────┼───────────────┤\n",
       "│ fc4 (\u001b[38;5;33mDense\u001b[0m)                     │ (\u001b[38;5;45mNone\u001b[0m, \u001b[38;5;34m1\u001b[0m)              │             \u001b[38;5;34m6\u001b[0m │\n",
       "└─────────────────────────────────┴────────────────────────┴───────────────┘\n"
      ]
     },
     "metadata": {},
     "output_type": "display_data"
    },
    {
     "data": {
      "text/html": [
       "<pre style=\"white-space:pre;overflow-x:auto;line-height:normal;font-family:Menlo,'DejaVu Sans Mono',consolas,'Courier New',monospace\"><span style=\"font-weight: bold\"> Total params: </span><span style=\"color: #00af00; text-decoration-color: #00af00\">146</span> (584.00 B)\n",
       "</pre>\n"
      ],
      "text/plain": [
       "\u001b[1m Total params: \u001b[0m\u001b[38;5;34m146\u001b[0m (584.00 B)\n"
      ]
     },
     "metadata": {},
     "output_type": "display_data"
    },
    {
     "data": {
      "text/html": [
       "<pre style=\"white-space:pre;overflow-x:auto;line-height:normal;font-family:Menlo,'DejaVu Sans Mono',consolas,'Courier New',monospace\"><span style=\"font-weight: bold\"> Trainable params: </span><span style=\"color: #00af00; text-decoration-color: #00af00\">146</span> (584.00 B)\n",
       "</pre>\n"
      ],
      "text/plain": [
       "\u001b[1m Trainable params: \u001b[0m\u001b[38;5;34m146\u001b[0m (584.00 B)\n"
      ]
     },
     "metadata": {},
     "output_type": "display_data"
    },
    {
     "data": {
      "text/html": [
       "<pre style=\"white-space:pre;overflow-x:auto;line-height:normal;font-family:Menlo,'DejaVu Sans Mono',consolas,'Courier New',monospace\"><span style=\"font-weight: bold\"> Non-trainable params: </span><span style=\"color: #00af00; text-decoration-color: #00af00\">0</span> (0.00 B)\n",
       "</pre>\n"
      ],
      "text/plain": [
       "\u001b[1m Non-trainable params: \u001b[0m\u001b[38;5;34m0\u001b[0m (0.00 B)\n"
      ]
     },
     "metadata": {},
     "output_type": "display_data"
    }
   ],
   "source": [
    "# Initialize the model. \n",
    "model = Sequential(name=\"sequantial1\")\n",
    "# For each layer you need to add the number of Neurons and the activation. \n",
    "# We have 27 features so that goes in input_shape\n",
    "model.add(Dense(5, input_shape=(27,), name=\"fc1\"))\n",
    "model.add(Activation(activation=\"sigmoid\", name=\"relu2\"))\n",
    "model.add(Dense(1, name=\"fc4\"))\n",
    "model.summary()"
   ]
  },
  {
   "cell_type": "code",
   "execution_count": 11,
   "id": "476e7a94",
   "metadata": {},
   "outputs": [],
   "source": [
    "model.compile(optimizer=\"sgd\", loss=[\"MSE\"], metrics=[\"MAPE\"])\n",
    "history = model.fit(X_train_two, y_train_two, batch_size=1024, epochs=100, validation_split=0.25, shuffle=True, verbose=0)"
   ]
  },
  {
   "cell_type": "code",
   "execution_count": 12,
   "id": "18edf729",
   "metadata": {},
   "outputs": [
    {
     "name": "stdout",
     "output_type": "stream",
     "text": [
      "0.9788849353790283\n",
      "189.67657470703125\n"
     ]
    },
    {
     "data": {
      "image/png": "[encoded data removed]",
      "text/plain": [
       "<Figure size 1000x500 with 2 Axes>"
      ]
     },
     "metadata": {},
     "output_type": "display_data"
    }
   ],
   "source": [
    "plot_model_history(history)\n",
    "print(str(history.history[\"val_loss\"][49]))\n",
    "print(str(history.history[\"val_MAPE\"][49]))"
   ]
  },
  {
   "cell_type": "code",
   "execution_count": 13,
   "id": "0f6fd998",
   "metadata": {},
   "outputs": [],
   "source": [
    "np.shape(X_test_two)\n",
    "y_keras = model.predict(X_test_two, batch_size=10, verbose=0)"
   ]
  },
  {
   "cell_type": "code",
   "execution_count": 14,
   "id": "a71abf4f",
   "metadata": {},
   "outputs": [
    {
     "data": {
      "image/png": "[encoded data removed]",
      "text/plain": [
       "<Figure size 640x480 with 1 Axes>"
      ]
     },
     "metadata": {},
     "output_type": "display_data"
    }
   ],
   "source": [
    "plt.scatter(y_test, scaler_y.inverse_transform(y_keras))\n",
    "plt.plot(np.arange(200,400), np.arange(200,400), color = \"r\")\n",
    "plt.show()"
   ]
  },
  {
   "cell_type": "code",
   "execution_count": null,
   "id": "9f799d2d",
   "metadata": {},
   "outputs": [],
   "source": []
  },
  {
   "cell_type": "code",
   "execution_count": null,
   "id": "43f926b1",
   "metadata": {},
   "outputs": [],
   "source": []
  }
 ],
 "metadata": {
  "kernelspec": {
   "display_name": "Python 3 (ipykernel)",
   "language": "python",
   "name": "python3"
  },
  "language_info": {
   "codemirror_mode": {
    "name": "ipython",
    "version": 3
   },
   "file_extension": ".py",
   "mimetype": "text/x-python",
   "name": "python",
   "nbconvert_exporter": "python",
   "pygments_lexer": "ipython3",
   "version": "3.11.4"
  },
  "toc": {
   "base_numbering": 1,
   "nav_menu": {},
   "number_sections": true,
   "sideBar": true,
   "skip_h1_title": false,
   "title_cell": "Table of Contents",
   "title_sidebar": "Contents",
   "toc_cell": false,
   "toc_position": {},
   "toc_section_display": true,
   "toc_window_display": true
  }
 },
 "nbformat": 4,
 "nbformat_minor": 5
}
