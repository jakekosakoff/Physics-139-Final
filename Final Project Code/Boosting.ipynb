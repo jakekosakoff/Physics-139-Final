{
 "cells": [
  {
   "cell_type": "markdown",
   "id": "4f6abf0e",
   "metadata": {},
   "source": [
    "# Import Data"
   ]
  },
  {
   "cell_type": "code",
   "execution_count": 1,
   "id": "b7200de6",
   "metadata": {},
   "outputs": [
    {
     "name": "stderr",
     "output_type": "stream",
     "text": [
      "/Users/nicole/opt/anaconda3/lib/python3.9/site-packages/scipy/__init__.py:155: UserWarning: A NumPy version >=1.18.5 and <1.25.0 is required for this version of SciPy (detected version 1.26.4\n",
      "  warnings.warn(f\"A NumPy version >={np_minversion} and <{np_maxversion}\"\n"
     ]
    }
   ],
   "source": [
    "import numpy as np\n",
    "import pandas as pd\n",
    "import xgboost as xgb\n",
    "import matplotlib.pyplot as plt\n",
    "from sklearn.model_selection import train_test_split\n",
    "from sklearn.preprocessing import StandardScaler\n",
    "from xgboost import XGBRegressor\n",
    "\n",
    "random_state = 3"
   ]
  },
  {
   "cell_type": "code",
   "execution_count": 2,
   "id": "1e74786f",
   "metadata": {},
   "outputs": [
    {
     "data": {
      "text/html": [
       "<div>\n",
       "<style scoped>\n",
       "    .dataframe tbody tr th:only-of-type {\n",
       "        vertical-align: middle;\n",
       "    }\n",
       "\n",
       "    .dataframe tbody tr th {\n",
       "        vertical-align: top;\n",
       "    }\n",
       "\n",
       "    .dataframe thead th {\n",
       "        text-align: right;\n",
       "    }\n",
       "</style>\n",
       "<table border=\"1\" class=\"dataframe\">\n",
       "  <thead>\n",
       "    <tr style=\"text-align: right;\">\n",
       "      <th></th>\n",
       "      <th>Index</th>\n",
       "      <th>DT</th>\n",
       "      <th>Energy</th>\n",
       "      <th>Month</th>\n",
       "      <th>DayOfWeek</th>\n",
       "      <th>BankHols</th>\n",
       "      <th>RetailHols</th>\n",
       "      <th>Trend2010</th>\n",
       "      <th>AvgDB</th>\n",
       "      <th>LagDB</th>\n",
       "      <th>Lag2DB</th>\n",
       "      <th>AvgClouds</th>\n",
       "      <th>AvgWind</th>\n",
       "    </tr>\n",
       "  </thead>\n",
       "  <tbody>\n",
       "    <tr>\n",
       "      <th>0</th>\n",
       "      <td>0</td>\n",
       "      <td>1/1/17</td>\n",
       "      <td>242.69</td>\n",
       "      <td>1.0</td>\n",
       "      <td>7.0</td>\n",
       "      <td>0.0</td>\n",
       "      <td>0.0</td>\n",
       "      <td>7.00</td>\n",
       "      <td>46.77</td>\n",
       "      <td>36.66</td>\n",
       "      <td>36.72</td>\n",
       "      <td>4.39</td>\n",
       "      <td>5.24</td>\n",
       "    </tr>\n",
       "    <tr>\n",
       "      <th>1</th>\n",
       "      <td>1</td>\n",
       "      <td>1/2/17</td>\n",
       "      <td>257.06</td>\n",
       "      <td>1.0</td>\n",
       "      <td>1.0</td>\n",
       "      <td>0.0</td>\n",
       "      <td>0.0</td>\n",
       "      <td>7.01</td>\n",
       "      <td>45.10</td>\n",
       "      <td>46.77</td>\n",
       "      <td>36.66</td>\n",
       "      <td>8.00</td>\n",
       "      <td>5.66</td>\n",
       "    </tr>\n",
       "    <tr>\n",
       "      <th>2</th>\n",
       "      <td>2</td>\n",
       "      <td>1/3/17</td>\n",
       "      <td>265.35</td>\n",
       "      <td>1.0</td>\n",
       "      <td>2.0</td>\n",
       "      <td>0.0</td>\n",
       "      <td>0.0</td>\n",
       "      <td>7.01</td>\n",
       "      <td>45.37</td>\n",
       "      <td>45.10</td>\n",
       "      <td>46.77</td>\n",
       "      <td>7.75</td>\n",
       "      <td>5.63</td>\n",
       "    </tr>\n",
       "    <tr>\n",
       "      <th>3</th>\n",
       "      <td>3</td>\n",
       "      <td>1/4/17</td>\n",
       "      <td>253.79</td>\n",
       "      <td>1.0</td>\n",
       "      <td>3.0</td>\n",
       "      <td>0.0</td>\n",
       "      <td>0.0</td>\n",
       "      <td>7.01</td>\n",
       "      <td>48.87</td>\n",
       "      <td>45.37</td>\n",
       "      <td>45.10</td>\n",
       "      <td>3.71</td>\n",
       "      <td>8.61</td>\n",
       "    </tr>\n",
       "    <tr>\n",
       "      <th>4</th>\n",
       "      <td>4</td>\n",
       "      <td>1/5/17</td>\n",
       "      <td>305.91</td>\n",
       "      <td>1.0</td>\n",
       "      <td>4.0</td>\n",
       "      <td>0.0</td>\n",
       "      <td>0.0</td>\n",
       "      <td>7.01</td>\n",
       "      <td>34.49</td>\n",
       "      <td>48.87</td>\n",
       "      <td>45.37</td>\n",
       "      <td>6.06</td>\n",
       "      <td>3.84</td>\n",
       "    </tr>\n",
       "    <tr>\n",
       "      <th>...</th>\n",
       "      <td>...</td>\n",
       "      <td>...</td>\n",
       "      <td>...</td>\n",
       "      <td>...</td>\n",
       "      <td>...</td>\n",
       "      <td>...</td>\n",
       "      <td>...</td>\n",
       "      <td>...</td>\n",
       "      <td>...</td>\n",
       "      <td>...</td>\n",
       "      <td>...</td>\n",
       "      <td>...</td>\n",
       "      <td>...</td>\n",
       "    </tr>\n",
       "    <tr>\n",
       "      <th>1090</th>\n",
       "      <td>1090</td>\n",
       "      <td>12/27/19</td>\n",
       "      <td>262.49</td>\n",
       "      <td>12.0</td>\n",
       "      <td>5.0</td>\n",
       "      <td>0.0</td>\n",
       "      <td>0.0</td>\n",
       "      <td>9.99</td>\n",
       "      <td>47.83</td>\n",
       "      <td>43.47</td>\n",
       "      <td>39.38</td>\n",
       "      <td>3.76</td>\n",
       "      <td>2.08</td>\n",
       "    </tr>\n",
       "    <tr>\n",
       "      <th>1091</th>\n",
       "      <td>1091</td>\n",
       "      <td>12/28/19</td>\n",
       "      <td>238.96</td>\n",
       "      <td>12.0</td>\n",
       "      <td>6.0</td>\n",
       "      <td>0.0</td>\n",
       "      <td>0.0</td>\n",
       "      <td>9.99</td>\n",
       "      <td>51.19</td>\n",
       "      <td>47.83</td>\n",
       "      <td>43.47</td>\n",
       "      <td>1.86</td>\n",
       "      <td>1.76</td>\n",
       "    </tr>\n",
       "    <tr>\n",
       "      <th>1092</th>\n",
       "      <td>1092</td>\n",
       "      <td>12/29/19</td>\n",
       "      <td>240.27</td>\n",
       "      <td>12.0</td>\n",
       "      <td>7.0</td>\n",
       "      <td>0.0</td>\n",
       "      <td>0.0</td>\n",
       "      <td>9.99</td>\n",
       "      <td>53.24</td>\n",
       "      <td>51.19</td>\n",
       "      <td>47.83</td>\n",
       "      <td>7.78</td>\n",
       "      <td>3.33</td>\n",
       "    </tr>\n",
       "    <tr>\n",
       "      <th>1093</th>\n",
       "      <td>1093</td>\n",
       "      <td>12/30/19</td>\n",
       "      <td>235.10</td>\n",
       "      <td>12.0</td>\n",
       "      <td>1.0</td>\n",
       "      <td>0.0</td>\n",
       "      <td>0.0</td>\n",
       "      <td>10.00</td>\n",
       "      <td>62.12</td>\n",
       "      <td>53.24</td>\n",
       "      <td>51.19</td>\n",
       "      <td>3.87</td>\n",
       "      <td>9.17</td>\n",
       "    </tr>\n",
       "    <tr>\n",
       "      <th>1094</th>\n",
       "      <td>1094</td>\n",
       "      <td>12/31/19</td>\n",
       "      <td>249.39</td>\n",
       "      <td>12.0</td>\n",
       "      <td>2.0</td>\n",
       "      <td>0.0</td>\n",
       "      <td>0.0</td>\n",
       "      <td>10.00</td>\n",
       "      <td>46.98</td>\n",
       "      <td>62.12</td>\n",
       "      <td>53.24</td>\n",
       "      <td>3.45</td>\n",
       "      <td>6.15</td>\n",
       "    </tr>\n",
       "  </tbody>\n",
       "</table>\n",
       "<p>1095 rows × 13 columns</p>\n",
       "</div>"
      ],
      "text/plain": [
       "      Index        DT  Energy  Month  DayOfWeek  BankHols  RetailHols  \\\n",
       "0         0    1/1/17  242.69    1.0        7.0       0.0         0.0   \n",
       "1         1    1/2/17  257.06    1.0        1.0       0.0         0.0   \n",
       "2         2    1/3/17  265.35    1.0        2.0       0.0         0.0   \n",
       "3         3    1/4/17  253.79    1.0        3.0       0.0         0.0   \n",
       "4         4    1/5/17  305.91    1.0        4.0       0.0         0.0   \n",
       "...     ...       ...     ...    ...        ...       ...         ...   \n",
       "1090   1090  12/27/19  262.49   12.0        5.0       0.0         0.0   \n",
       "1091   1091  12/28/19  238.96   12.0        6.0       0.0         0.0   \n",
       "1092   1092  12/29/19  240.27   12.0        7.0       0.0         0.0   \n",
       "1093   1093  12/30/19  235.10   12.0        1.0       0.0         0.0   \n",
       "1094   1094  12/31/19  249.39   12.0        2.0       0.0         0.0   \n",
       "\n",
       "      Trend2010  AvgDB  LagDB  Lag2DB  AvgClouds  AvgWind  \n",
       "0          7.00  46.77  36.66   36.72       4.39     5.24  \n",
       "1          7.01  45.10  46.77   36.66       8.00     5.66  \n",
       "2          7.01  45.37  45.10   46.77       7.75     5.63  \n",
       "3          7.01  48.87  45.37   45.10       3.71     8.61  \n",
       "4          7.01  34.49  48.87   45.37       6.06     3.84  \n",
       "...         ...    ...    ...     ...        ...      ...  \n",
       "1090       9.99  47.83  43.47   39.38       3.76     2.08  \n",
       "1091       9.99  51.19  47.83   43.47       1.86     1.76  \n",
       "1092       9.99  53.24  51.19   47.83       7.78     3.33  \n",
       "1093      10.00  62.12  53.24   51.19       3.87     9.17  \n",
       "1094      10.00  46.98  62.12   53.24       3.45     6.15  \n",
       "\n",
       "[1095 rows x 13 columns]"
      ]
     },
     "execution_count": 2,
     "metadata": {},
     "output_type": "execute_result"
    }
   ],
   "source": [
    "Boosting_data = pd.read_csv(\"Data/BoostingData.csv\")\n",
    "Boosting_data"
   ]
  },
  {
   "cell_type": "code",
   "execution_count": 3,
   "id": "a6bca7ef",
   "metadata": {
    "scrolled": true
   },
   "outputs": [],
   "source": [
    "Boosting_data = pd.read_csv(\"Data/BoostingData.csv\")\n",
    "\n",
    "X = Boosting_data.values[:,3:]\n",
    "y = Boosting_data.values[:,2]\n",
    "X_train, X_test, y_train, y_test = train_test_split(X, y, test_size=0.1, random_state=random_state)\n",
    "X_train = np.asarray(X_train.astype(\"float32\"))\n",
    "X_test = np.asarray(X_test.astype(\"float32\"))"
   ]
  },
  {
   "cell_type": "code",
   "execution_count": 4,
   "id": "9df6e135",
   "metadata": {},
   "outputs": [],
   "source": [
    "def mape(pred, test):\n",
    "    return np.mean(np.abs((test - pred) / test))"
   ]
  },
  {
   "cell_type": "markdown",
   "id": "7e98080b",
   "metadata": {},
   "source": [
    "# Predicting Energy Values"
   ]
  },
  {
   "cell_type": "code",
   "execution_count": 5,
   "id": "46b9c650",
   "metadata": {
    "scrolled": false
   },
   "outputs": [],
   "source": [
    "bdt = XGBRegressor(n_estimators=100,max_depth=3,learning_rate=0.1,colsample_bytree=0.8, subsample=0.8)\n",
    "bdt.fit(X_train, y_train)\n",
    "preds_bdt = bdt.predict(X_test)"
   ]
  },
  {
   "cell_type": "code",
   "execution_count": 6,
   "id": "4d6c5569",
   "metadata": {},
   "outputs": [
    {
     "data": {
      "image/png": "[encoded data removed]",
      "text/plain": [
       "<Figure size 640x480 with 1 Axes>"
      ]
     },
     "metadata": {},
     "output_type": "display_data"
    },
    {
     "data": {
      "text/plain": [
       "0.020763772086307888"
      ]
     },
     "execution_count": 6,
     "metadata": {},
     "output_type": "execute_result"
    }
   ],
   "source": [
    "plt.scatter(preds_bdt, y_test)\n",
    "plt.plot(np.arange(200, 400), np.arange(200,400), color =  \"r\")\n",
    "plt.xlabel('Predicted energy values') \n",
    "plt.ylabel('Actual energy values')\n",
    "plt.title(\"Predicted vs Actual energy values\")\n",
    "plt.show()\n",
    "\n",
    "mape(preds_bdt, y_test)"
   ]
  },
  {
   "cell_type": "markdown",
   "id": "bcafd623",
   "metadata": {},
   "source": [
    "# Predicting Residuals"
   ]
  },
  {
   "cell_type": "code",
   "execution_count": 7,
   "id": "9f0cc278",
   "metadata": {},
   "outputs": [
    {
     "name": "stdout",
     "output_type": "stream",
     "text": [
      "max depth = 3, mape = 0.020763772086307888\n",
      "max depth = 5, mape = 0.017539756027178107\n",
      "max depth = 7, mape = 0.018547512656518134\n",
      "max depth = 10, mape = 0.019884534190285054\n",
      "max depth = 12, mape = 0.02024089383787254\n",
      "max depth = 15, mape = 0.02079801633583964\n"
     ]
    }
   ],
   "source": [
    "depths = [3, 5, 7, 10, 12, 15]\n",
    "\n",
    "for depth in depths:\n",
    "    bdt = XGBRegressor(n_estimators = 100, max_depth = depth, learning_rate = 0.1,\n",
    "                   colsample_bytree = 0.8, subsample = 0.8)\n",
    "    bdt.fit(X_train, y_train)\n",
    "    preds_bdt = bdt.predict(X_test)\n",
    "    mape_depth = mape(preds_bdt, y_test)\n",
    "    print(f'max depth = {depth}, mape = {mape_depth}')\n"
   ]
  },
  {
   "cell_type": "code",
   "execution_count": 8,
   "id": "7ce3da76",
   "metadata": {},
   "outputs": [
    {
     "name": "stdout",
     "output_type": "stream",
     "text": [
      "n_estimators = 50, mape = 0.01998501706409884\n",
      "n_estimators = 100, mape = 0.017539756027178107\n",
      "n_estimators = 200, mape = 0.016631839027630435\n",
      "n_estimators = 500, mape = 0.01629690666002757\n",
      "n_estimators = 1000, mape = 0.016287615665257396\n",
      "n_estimators = 2000, mape = 0.016289260290080296\n",
      "n_estimators = 5000, mape = 0.01628931060559674\n"
     ]
    }
   ],
   "source": [
    "numbers = [50, 100, 200, 500, 1000, 2000, 5000]\n",
    "\n",
    "for n in numbers:\n",
    "    bdt = XGBRegressor(n_estimators = n, max_depth = 5, learning_rate = 0.1,\n",
    "                   colsample_bytree = 0.8, subsample = 0.8)\n",
    "    bdt.fit(X_train, y_train)\n",
    "    preds_bdt = bdt.predict(X_test)\n",
    "    mape_n = mape(preds_bdt, y_test)\n",
    "    print(f'n_estimators = {n}, mape = {mape_n}')\n"
   ]
  },
  {
   "cell_type": "code",
   "execution_count": 9,
   "id": "7a878b65",
   "metadata": {},
   "outputs": [
    {
     "name": "stdout",
     "output_type": "stream",
     "text": [
      "learning_rate = 0.01, mape = 0.01704363698598451\n",
      "learning_rate = 0.05, mape = 0.0159410041822256\n",
      "learning_rate = 0.075, mape = 0.016563973902814763\n",
      "learning_rate = 0.1, mape = 0.016287615665257396\n",
      "learning_rate = 0.15, mape = 0.017492486397434334\n",
      "learning_rate = 0.2, mape = 0.01806229917158679\n",
      "learning_rate = 0.25, mape = 0.017605756816053406\n"
     ]
    }
   ],
   "source": [
    "rates = [0.01, 0.05, 0.075, 0.1, 0.15, 0.2, 0.25]\n",
    "\n",
    "for rate in rates:\n",
    "    bdt = XGBRegressor(n_estimators = 1000, max_depth = 5, learning_rate = rate,\n",
    "                   colsample_bytree = 0.8, subsample = 0.8)\n",
    "    bdt.fit(X_train, y_train)\n",
    "    preds_bdt = bdt.predict(X_test)\n",
    "    mape_rate = mape(preds_bdt, y_test)\n",
    "    print(f'learning_rate = {rate}, mape = {mape_rate}')"
   ]
  },
  {
   "cell_type": "code",
   "execution_count": 10,
   "id": "df82e5a3",
   "metadata": {},
   "outputs": [
    {
     "name": "stdout",
     "output_type": "stream",
     "text": [
      "colsample_bytree = 0.5, mape = 0.016997962269537998\n",
      "colsample_bytree = 0.6, mape = 0.014951716286327658\n",
      "colsample_bytree = 0.7, mape = 0.015694621720650316\n",
      "colsample_bytree = 0.8, mape = 0.0159410041822256\n",
      "colsample_bytree = 0.9, mape = 0.01577698662340698\n"
     ]
    }
   ],
   "source": [
    "by_tree = [0.5, 0.6, 0.7, 0.8, 0.9]\n",
    "\n",
    "for val in by_tree:\n",
    "    bdt = XGBRegressor(n_estimators = 1000, max_depth = 5, learning_rate = 0.05,\n",
    "                   colsample_bytree = val, subsample = 0.8)\n",
    "    bdt.fit(X_train, y_train)\n",
    "    preds_bdt = bdt.predict(X_test)\n",
    "    mape_val = mape(preds_bdt, y_test)\n",
    "    print(f'colsample_bytree = {val}, mape = {mape_val}')"
   ]
  },
  {
   "cell_type": "code",
   "execution_count": 11,
   "id": "d6bf4e90",
   "metadata": {},
   "outputs": [
    {
     "name": "stdout",
     "output_type": "stream",
     "text": [
      "subsample = 0.5, mape = 0.0151238377461741\n",
      "subsample = 0.6, mape = 0.014804042717233581\n",
      "subsample = 0.7, mape = 0.014795627909935757\n",
      "subsample = 0.8, mape = 0.014951716286327658\n",
      "subsample = 0.9, mape = 0.01576126371738724\n",
      "subsample = 0.95, mape = 0.015920256620994628\n"
     ]
    }
   ],
   "source": [
    "subsamples = [0.5, 0.6, 0.7, 0.8, 0.9, 0.95]\n",
    "\n",
    "for sub in subsamples:\n",
    "    bdt = XGBRegressor(n_estimators = 1000, max_depth = 5, learning_rate = 0.05,\n",
    "                   colsample_bytree = 0.6, subsample = sub)\n",
    "    bdt.fit(X_train, y_train)\n",
    "    preds_bdt = bdt.predict(X_test)\n",
    "    mape_sub = mape(preds_bdt, y_test)\n",
    "    print(f'subsample = {sub}, mape = {mape_sub}')"
   ]
  },
  {
   "cell_type": "code",
   "execution_count": 12,
   "id": "6e247e5f",
   "metadata": {},
   "outputs": [
    {
     "data": {
      "image/png": "[encoded data removed]",
      "text/plain": [
       "<Figure size 640x480 with 1 Axes>"
      ]
     },
     "metadata": {},
     "output_type": "display_data"
    }
   ],
   "source": [
    "mapes = []\n",
    "for i in range(100):\n",
    "    X_train, X_test, y_train, y_test = train_test_split(X, y, test_size = 0.1)\n",
    "    X_train = np.asarray(X_train.astype(\"float32\"))\n",
    "    X_test = np.asarray(X_test.astype(\"float32\"))\n",
    "    bdt = XGBRegressor(n_estimators = 1000, max_depth = 5, learning_rate = 0.1,\n",
    "                   colsample_bytree = 0.6, subsample = 0.7)\n",
    "    bdt.fit(X_train, y_train)\n",
    "    preds_bdt = bdt.predict(X_test)\n",
    "    mapes.append(mape(preds_bdt, y_test))\n",
    "#     print(f'iteration {i}, mse = {mse_i}')\n",
    "\n",
    "plt.scatter(list(range(100)), mapes, s = 2)\n",
    "plt.axhline(np.mean(mapes), linestyle = '--', color = 'black', alpha = 0.5, \n",
    "            label = f'Avg. % Error = {np.round(np.mean(mapes), 4)}')\n",
    "plt.ylim([0, 0.1])\n",
    "plt.ylabel('MAPE')\n",
    "plt.legend()\n",
    "plt.show()"
   ]
  },
  {
   "cell_type": "markdown",
   "id": "f0410ee8",
   "metadata": {},
   "source": [
    "## Optimize Parameters"
   ]
  },
  {
   "cell_type": "code",
   "execution_count": null,
   "id": "dcc737ca",
   "metadata": {},
   "outputs": [],
   "source": []
  }
 ],
 "metadata": {
  "kernelspec": {
   "display_name": "Python 3 (ipykernel)",
   "language": "python",
   "name": "python3"
  },
  "language_info": {
   "codemirror_mode": {
    "name": "ipython",
    "version": 3
   },
   "file_extension": ".py",
   "mimetype": "text/x-python",
   "name": "python",
   "nbconvert_exporter": "python",
   "pygments_lexer": "ipython3",
   "version": "3.9.13"
  },
  "toc": {
   "base_numbering": 1,
   "nav_menu": {},
   "number_sections": true,
   "sideBar": true,
   "skip_h1_title": false,
   "title_cell": "Table of Contents",
   "title_sidebar": "Contents",
   "toc_cell": false,
   "toc_position": {},
   "toc_section_display": true,
   "toc_window_display": true
  }
 },
 "nbformat": 4,
 "nbformat_minor": 5
}
