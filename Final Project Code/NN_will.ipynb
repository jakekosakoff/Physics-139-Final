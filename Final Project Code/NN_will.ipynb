{
 "cells": [
  {
   "cell_type": "markdown",
   "id": "675edf3b",
   "metadata": {},
   "source": [
    "# Import Data"
   ]
  },
  {
   "cell_type": "markdown",
   "id": "cfdb47d6",
   "metadata": {},
   "source": [
    "Setting up all the import Statements"
   ]
  },
  {
   "cell_type": "code",
   "execution_count": 1,
   "id": "b7200de6",
   "metadata": {},
   "outputs": [
    {
     "name": "stderr",
     "output_type": "stream",
     "text": [
      "2024-06-08 20:59:15.979835: I tensorflow/core/platform/cpu_feature_guard.cc:182] This TensorFlow binary is optimized to use available CPU instructions in performance-critical operations.\n",
      "To enable the following instructions: AVX2 FMA, in other operations, rebuild TensorFlow with the appropriate compiler flags.\n"
     ]
    }
   ],
   "source": [
    "import numpy as np\n",
    "import pandas as pd\n",
    "from sklearn.model_selection import train_test_split\n",
    "from sklearn.preprocessing import StandardScaler, MinMaxScaler\n",
    "\n",
    "from tensorflow.keras.utils import to_categorical\n",
    "from sklearn.datasets import fetch_openml\n",
    "\n",
    "from tensorflow.keras.models import Sequential\n",
    "from tensorflow.keras.layers import Dense, Activation, BatchNormalization\n",
    "from tensorflow.keras.optimizers import Adam\n",
    "from tensorflow.keras.regularizers import l1\n",
    "\n",
    "import matplotlib.pyplot as plt\n",
    "import numpy as np\n",
    "import tensorflow as tf\n",
    "\n",
    "from sklearn.metrics import mean_squared_error as MSE\n",
    "from sklearn.metrics import mean_absolute_error as MAE\n",
    "from sklearn.metrics import mean_absolute_percentage_error as MAPE\n",
    "\n",
    "from tensorflow.keras.utils import plot_model\n",
    "\n",
    "random_state = 3"
   ]
  },
  {
   "cell_type": "markdown",
   "id": "aa0ae817",
   "metadata": {},
   "source": [
    "Plotting Function"
   ]
  },
  {
   "cell_type": "code",
   "execution_count": 11,
   "id": "84dac3ce",
   "metadata": {},
   "outputs": [],
   "source": [
    "def plot_model_history(history):\n",
    "    \"\"\"Plot the training and validation history for a TensorFlow network\"\"\"\n",
    "\n",
    "    # Extract loss and accuracy\n",
    "    loss = history.history[\"loss\"]\n",
    "    val_loss = history.history[\"val_loss\"]\n",
    "    mape = history.history[\"MAPE\"]\n",
    "    val_MAPE = history.history[\"val_MAPE\"]\n",
    "    n_epochs = len(loss)\n",
    "\n",
    "    fig, ax = plt.subplots(nrows=1, ncols=1, figsize=(5, 5))\n",
    "    ax.plot(np.arange(n_epochs), loss, label=\"Training\")\n",
    "    ax.plot(np.arange(n_epochs), val_loss, label=\"Validation\")\n",
    "    ax.legend()\n",
    "    ax.set_xlabel(\"Epoch\")\n",
    "    ax.set_ylabel(\"Loss\")\n",
    "    #ax.savefig(\"Plots/NNAllData1Layer\")\n",
    "\n",
    "    #ax[1].plot(np.arange(n_epochs), mape, label=\"Training\")\n",
    "    #ax[1].plot(np.arange(n_epochs), val_MAPE, label=\"Validation\")\n",
    "    #ax[1].legend()\n",
    "    #ax[1].set_xlabel(\"Epoch\")\n",
    "    #ax[1].set_ylabel(\"Mean Absolute Percent Error\")\n"
   ]
  },
  {
   "cell_type": "code",
   "execution_count": 29,
   "id": "1e74786f",
   "metadata": {},
   "outputs": [
    {
     "data": {
      "text/plain": [
       "array([0.0, 0.0, 0.0, ..., 0.0, 0.0, 0.0], dtype=object)"
      ]
     },
     "execution_count": 29,
     "metadata": {},
     "output_type": "execute_result"
    }
   ],
   "source": [
    "#Getting the Data\n",
    "NN_data = pd.read_csv(\"Data/NNData.csv\")\n",
    "\n",
    "# The NN_data is a 1095 by 30 dataframe. Where there are 30 columns each having 1095 data points.\n",
    "# This corresponds to 3 years of data. \n",
    "\n",
    "# Splitting it up into hot and cold. For use if wanted\n",
    "NN_data_hot = NN_data[NN_data[\"AvgDB\"] >= 61]\n",
    "NN_data_cold = NN_data[NN_data[\"AvgDB\"] < 61]\n",
    "\n",
    "NN_data.values[:,5]"
   ]
  },
  {
   "cell_type": "code",
   "execution_count": 19,
   "id": "a6bca7ef",
   "metadata": {
    "scrolled": true
   },
   "outputs": [],
   "source": [
    "# Splitting the X values from the other values. \n",
    "X = NN_data.values[:,3:]\n",
    "# The y values are in the 3rd column. (Actual Energy)\n",
    "y = NN_data.values[:,2]\n",
    "\n",
    "# These are the values of X that are supposed to be non-linear in the paper. \n",
    "X_NonLinear = NN_data[[\"AvgDB\",\"LagDB\", \"AvgClouds\", \"AvgWind\", \"Trend2010\", \"Lag2DB\", 'Monday', 'Tuesday', 'Wednesday',\n",
    "       'Thursday', 'Friday', 'Saturday']]\n",
    "X_temp = NN_data[[\"AvgDB\"]]\n",
    "# Splitting Data into training and testing.\n",
    "X_train, X_test, y_train, y_test = train_test_split(X_NonLinear, y, test_size=0.1, random_state=random_state)\n"
   ]
  },
  {
   "cell_type": "code",
   "execution_count": 20,
   "id": "880ed71e",
   "metadata": {},
   "outputs": [],
   "source": [
    "# To go through the model all data has to be float 32s.\n",
    "X_train = np.asarray(X_train).astype('float32')\n",
    "X_test= np.asarray(X_test).astype('float32')\n",
    "y_train = np.asarray(y_train).astype('float32')\n",
    "y_test = np.asarray(y_test).astype('float32')\n",
    "\n",
    "# We have to scale both our x and y data using scalars because with activations,\n",
    "# having high values will mean all nodes are the same. \n",
    "scaler_x = StandardScaler()\n",
    "scaler_y = MinMaxScaler()\n",
    "\n",
    "# Now using our scalers we have to transform all our data. \n",
    "X_train = scaler_x.fit_transform(X_train)\n",
    "X_test = scaler_x.transform(X_test)\n",
    "y_train = scaler_y.fit_transform(y_train.reshape(-1,1)).reshape(-1,)\n"
   ]
  },
  {
   "cell_type": "raw",
   "id": "4cd1f3b3",
   "metadata": {},
   "source": [
    "# Model"
   ]
  },
  {
   "cell_type": "code",
   "execution_count": 22,
   "id": "46b9c650",
   "metadata": {},
   "outputs": [
    {
     "name": "stdout",
     "output_type": "stream",
     "text": [
      "Model: \"sequential_3\"\n",
      "_________________________________________________________________\n",
      " Layer (type)                Output Shape              Param #   \n",
      "=================================================================\n",
      " dense_6 (Dense)             (None, 4)                 52        \n",
      "                                                                 \n",
      " activation_3 (Activation)   (None, 4)                 0         \n",
      "                                                                 \n",
      " dense_7 (Dense)             (None, 1)                 5         \n",
      "                                                                 \n",
      "=================================================================\n",
      "Total params: 57 (228.00 Byte)\n",
      "Trainable params: 57 (228.00 Byte)\n",
      "Non-trainable params: 0 (0.00 Byte)\n",
      "_________________________________________________________________\n",
      "Epoch 1/150\n",
      "369/369 [==============================] - 3s 5ms/step - loss: 0.1048 - MAE: 0.2554 - MAPE: 158.1552 - val_loss: 0.0414 - val_MAE: 0.1698 - val_MAPE: 1115002.0000\n",
      "Epoch 2/150\n",
      "369/369 [==============================] - 2s 5ms/step - loss: 0.0321 - MAE: 0.1430 - MAPE: 109.1657 - val_loss: 0.0283 - val_MAE: 0.1387 - val_MAPE: 744054.7500\n",
      "Epoch 3/150\n",
      "369/369 [==============================] - 2s 5ms/step - loss: 0.0273 - MAE: 0.1307 - MAPE: 100.4066 - val_loss: 0.0274 - val_MAE: 0.1366 - val_MAPE: 707208.3125\n",
      "Epoch 4/150\n",
      "369/369 [==============================] - 2s 5ms/step - loss: 0.0266 - MAE: 0.1282 - MAPE: 99.4749 - val_loss: 0.0274 - val_MAE: 0.1343 - val_MAPE: 569773.6250\n",
      "Epoch 5/150\n",
      "369/369 [==============================] - 2s 5ms/step - loss: 0.0267 - MAE: 0.1285 - MAPE: 96.8058 - val_loss: 0.0268 - val_MAE: 0.1343 - val_MAPE: 751887.8750\n",
      "Epoch 6/150\n",
      "369/369 [==============================] - 1s 4ms/step - loss: 0.0260 - MAE: 0.1270 - MAPE: 99.5824 - val_loss: 0.0269 - val_MAE: 0.1356 - val_MAPE: 732246.5625\n",
      "Epoch 7/150\n",
      "369/369 [==============================] - 2s 5ms/step - loss: 0.0262 - MAE: 0.1278 - MAPE: 100.0001 - val_loss: 0.0271 - val_MAE: 0.1333 - val_MAPE: 656331.3750\n",
      "Epoch 8/150\n",
      "369/369 [==============================] - 2s 5ms/step - loss: 0.0260 - MAE: 0.1273 - MAPE: 97.9194 - val_loss: 0.0270 - val_MAE: 0.1333 - val_MAPE: 763024.0000\n",
      "Epoch 9/150\n",
      "369/369 [==============================] - 2s 5ms/step - loss: 0.0259 - MAE: 0.1266 - MAPE: 99.4759 - val_loss: 0.0264 - val_MAE: 0.1341 - val_MAPE: 724987.8750\n",
      "Epoch 10/150\n",
      "369/369 [==============================] - 2s 5ms/step - loss: 0.0257 - MAE: 0.1262 - MAPE: 99.4835 - val_loss: 0.0261 - val_MAE: 0.1332 - val_MAPE: 748787.0625\n",
      "Epoch 11/150\n",
      "369/369 [==============================] - 2s 5ms/step - loss: 0.0257 - MAE: 0.1269 - MAPE: 99.6567 - val_loss: 0.0261 - val_MAE: 0.1317 - val_MAPE: 757435.6875\n",
      "Epoch 12/150\n",
      "369/369 [==============================] - 2s 5ms/step - loss: 0.0251 - MAE: 0.1252 - MAPE: 98.9825 - val_loss: 0.0260 - val_MAE: 0.1321 - val_MAPE: 794277.9375\n",
      "Epoch 13/150\n",
      "369/369 [==============================] - 2s 5ms/step - loss: 0.0247 - MAE: 0.1241 - MAPE: 100.6585 - val_loss: 0.0253 - val_MAE: 0.1307 - val_MAPE: 720385.3125\n",
      "Epoch 14/150\n",
      "369/369 [==============================] - 2s 5ms/step - loss: 0.0243 - MAE: 0.1237 - MAPE: 96.6748 - val_loss: 0.0247 - val_MAE: 0.1296 - val_MAPE: 765305.2500\n",
      "Epoch 15/150\n",
      "369/369 [==============================] - 2s 5ms/step - loss: 0.0239 - MAE: 0.1226 - MAPE: 96.4012 - val_loss: 0.0246 - val_MAE: 0.1302 - val_MAPE: 748131.7500\n",
      "Epoch 16/150\n",
      "369/369 [==============================] - 2s 5ms/step - loss: 0.0234 - MAE: 0.1218 - MAPE: 96.7222 - val_loss: 0.0235 - val_MAE: 0.1259 - val_MAPE: 683621.1250\n",
      "Epoch 17/150\n",
      "369/369 [==============================] - 2s 5ms/step - loss: 0.0228 - MAE: 0.1200 - MAPE: 95.7236 - val_loss: 0.0234 - val_MAE: 0.1259 - val_MAPE: 728925.0625\n",
      "Epoch 18/150\n",
      "369/369 [==============================] - 2s 5ms/step - loss: 0.0223 - MAE: 0.1188 - MAPE: 94.7263 - val_loss: 0.0224 - val_MAE: 0.1236 - val_MAPE: 722712.8125\n",
      "Epoch 19/150\n",
      "369/369 [==============================] - 1s 4ms/step - loss: 0.0215 - MAE: 0.1170 - MAPE: 91.8247 - val_loss: 0.0211 - val_MAE: 0.1198 - val_MAPE: 679583.8125\n",
      "Epoch 20/150\n",
      "369/369 [==============================] - 2s 4ms/step - loss: 0.0205 - MAE: 0.1154 - MAPE: 91.7140 - val_loss: 0.0206 - val_MAE: 0.1150 - val_MAPE: 481023.3125\n",
      "Epoch 21/150\n",
      "369/369 [==============================] - 2s 4ms/step - loss: 0.0198 - MAE: 0.1112 - MAPE: 83.4197 - val_loss: 0.0194 - val_MAE: 0.1151 - val_MAPE: 659376.0625\n",
      "Epoch 22/150\n",
      "369/369 [==============================] - 2s 4ms/step - loss: 0.0189 - MAE: 0.1094 - MAPE: 85.5606 - val_loss: 0.0183 - val_MAE: 0.1091 - val_MAPE: 483681.7812\n",
      "Epoch 23/150\n",
      "369/369 [==============================] - 2s 5ms/step - loss: 0.0180 - MAE: 0.1072 - MAPE: 82.4865 - val_loss: 0.0170 - val_MAE: 0.1056 - val_MAPE: 513556.8438\n",
      "Epoch 24/150\n",
      "369/369 [==============================] - 2s 5ms/step - loss: 0.0168 - MAE: 0.1029 - MAPE: 80.5205 - val_loss: 0.0168 - val_MAE: 0.1032 - val_MAPE: 346622.2500\n",
      "Epoch 25/150\n",
      "369/369 [==============================] - 2s 5ms/step - loss: 0.0160 - MAE: 0.1001 - MAPE: 75.1891 - val_loss: 0.0146 - val_MAE: 0.0978 - val_MAPE: 488332.1875\n",
      "Epoch 26/150\n",
      "369/369 [==============================] - 2s 5ms/step - loss: 0.0147 - MAE: 0.0964 - MAPE: 72.8278 - val_loss: 0.0138 - val_MAE: 0.0957 - val_MAPE: 444343.5938\n",
      "Epoch 27/150\n",
      "369/369 [==============================] - 2s 5ms/step - loss: 0.0137 - MAE: 0.0926 - MAPE: 68.1673 - val_loss: 0.0124 - val_MAE: 0.0895 - val_MAPE: 392335.5938\n",
      "Epoch 28/150\n",
      "369/369 [==============================] - 2s 4ms/step - loss: 0.0128 - MAE: 0.0884 - MAPE: 64.4486 - val_loss: 0.0114 - val_MAE: 0.0853 - val_MAPE: 386512.2500\n",
      "Epoch 29/150\n",
      "369/369 [==============================] - 2s 5ms/step - loss: 0.0118 - MAE: 0.0849 - MAPE: 60.9488 - val_loss: 0.0107 - val_MAE: 0.0816 - val_MAPE: 289513.9062\n",
      "Epoch 30/150\n",
      "369/369 [==============================] - 2s 5ms/step - loss: 0.0107 - MAE: 0.0791 - MAPE: 54.6805 - val_loss: 0.0100 - val_MAE: 0.0831 - val_MAPE: 518621.6250\n",
      "Epoch 31/150\n",
      "369/369 [==============================] - 1s 4ms/step - loss: 0.0098 - MAE: 0.0766 - MAPE: 52.4265 - val_loss: 0.0091 - val_MAE: 0.0743 - val_MAPE: 330828.4375\n",
      "Epoch 32/150\n",
      "369/369 [==============================] - 2s 4ms/step - loss: 0.0090 - MAE: 0.0723 - MAPE: 47.4473 - val_loss: 0.0077 - val_MAE: 0.0685 - val_MAPE: 374090.7812\n",
      "Epoch 33/150\n",
      "369/369 [==============================] - 2s 4ms/step - loss: 0.0082 - MAE: 0.0691 - MAPE: 46.4354 - val_loss: 0.0071 - val_MAE: 0.0654 - val_MAPE: 330434.1562\n",
      "Epoch 34/150\n",
      "369/369 [==============================] - 2s 4ms/step - loss: 0.0075 - MAE: 0.0654 - MAPE: 42.7939 - val_loss: 0.0067 - val_MAE: 0.0610 - val_MAPE: 243152.5469\n",
      "Epoch 35/150\n",
      "369/369 [==============================] - 2s 4ms/step - loss: 0.0068 - MAE: 0.0616 - MAPE: 38.8543 - val_loss: 0.0061 - val_MAE: 0.0616 - val_MAPE: 367955.0000\n",
      "Epoch 36/150\n",
      "369/369 [==============================] - 2s 4ms/step - loss: 0.0062 - MAE: 0.0584 - MAPE: 35.6653 - val_loss: 0.0055 - val_MAE: 0.0555 - val_MAPE: 265160.5625\n",
      "Epoch 37/150\n",
      "369/369 [==============================] - 1s 3ms/step - loss: 0.0057 - MAE: 0.0561 - MAPE: 34.2505 - val_loss: 0.0050 - val_MAE: 0.0528 - val_MAPE: 237909.1406\n",
      "Epoch 38/150\n",
      "369/369 [==============================] - 1s 4ms/step - loss: 0.0053 - MAE: 0.0538 - MAPE: 31.5915 - val_loss: 0.0047 - val_MAE: 0.0499 - val_MAPE: 245145.3750\n",
      "Epoch 39/150\n",
      "369/369 [==============================] - 1s 4ms/step - loss: 0.0047 - MAE: 0.0508 - MAPE: 30.8702 - val_loss: 0.0041 - val_MAE: 0.0481 - val_MAPE: 277763.8125\n",
      "Epoch 40/150\n",
      "369/369 [==============================] - 1s 4ms/step - loss: 0.0044 - MAE: 0.0486 - MAPE: 28.0669 - val_loss: 0.0038 - val_MAE: 0.0452 - val_MAPE: 239911.3750\n",
      "Epoch 41/150\n",
      "369/369 [==============================] - 2s 5ms/step - loss: 0.0041 - MAE: 0.0471 - MAPE: 27.0228 - val_loss: 0.0038 - val_MAE: 0.0453 - val_MAPE: 228648.4219\n",
      "Epoch 42/150\n",
      "369/369 [==============================] - 2s 5ms/step - loss: 0.0038 - MAE: 0.0447 - MAPE: 25.1336 - val_loss: 0.0036 - val_MAE: 0.0417 - val_MAPE: 155381.2969\n",
      "Epoch 43/150\n",
      "369/369 [==============================] - 2s 4ms/step - loss: 0.0035 - MAE: 0.0431 - MAPE: 23.8340 - val_loss: 0.0034 - val_MAE: 0.0408 - val_MAPE: 118754.8516\n",
      "Epoch 44/150\n",
      "369/369 [==============================] - 2s 4ms/step - loss: 0.0032 - MAE: 0.0412 - MAPE: 21.2454 - val_loss: 0.0030 - val_MAE: 0.0421 - val_MAPE: 265962.4062\n",
      "Epoch 45/150\n",
      "369/369 [==============================] - 2s 5ms/step - loss: 0.0031 - MAE: 0.0405 - MAPE: 21.7309 - val_loss: 0.0028 - val_MAE: 0.0384 - val_MAPE: 176586.1562\n",
      "Epoch 46/150\n",
      "369/369 [==============================] - 2s 5ms/step - loss: 0.0028 - MAE: 0.0381 - MAPE: 19.4821 - val_loss: 0.0026 - val_MAE: 0.0378 - val_MAPE: 205864.5469\n",
      "Epoch 47/150\n",
      "369/369 [==============================] - 2s 5ms/step - loss: 0.0027 - MAE: 0.0376 - MAPE: 19.5140 - val_loss: 0.0026 - val_MAE: 0.0378 - val_MAPE: 211674.8281\n",
      "Epoch 48/150\n",
      "369/369 [==============================] - 2s 4ms/step - loss: 0.0025 - MAE: 0.0361 - MAPE: 19.3513 - val_loss: 0.0027 - val_MAE: 0.0362 - val_MAPE: 132326.4688\n",
      "Epoch 49/150\n",
      "369/369 [==============================] - 2s 5ms/step - loss: 0.0024 - MAE: 0.0356 - MAPE: 18.3772 - val_loss: 0.0023 - val_MAE: 0.0351 - val_MAPE: 171475.0781\n",
      "Epoch 50/150\n",
      "369/369 [==============================] - 2s 4ms/step - loss: 0.0023 - MAE: 0.0347 - MAPE: 17.9904 - val_loss: 0.0023 - val_MAE: 0.0336 - val_MAPE: 138890.1875\n",
      "Epoch 51/150\n",
      "369/369 [==============================] - 1s 4ms/step - loss: 0.0022 - MAE: 0.0333 - MAPE: 17.1467 - val_loss: 0.0024 - val_MAE: 0.0346 - val_MAPE: 145104.1094\n",
      "Epoch 52/150\n",
      "369/369 [==============================] - 1s 4ms/step - loss: 0.0021 - MAE: 0.0334 - MAPE: 16.6429 - val_loss: 0.0020 - val_MAE: 0.0320 - val_MAPE: 174210.3594\n",
      "Epoch 53/150\n",
      "369/369 [==============================] - 2s 5ms/step - loss: 0.0020 - MAE: 0.0333 - MAPE: 16.7645 - val_loss: 0.0021 - val_MAE: 0.0329 - val_MAPE: 167371.5469\n",
      "Epoch 54/150\n",
      "369/369 [==============================] - 2s 4ms/step - loss: 0.0019 - MAE: 0.0319 - MAPE: 15.4094 - val_loss: 0.0019 - val_MAE: 0.0320 - val_MAPE: 169561.0938\n",
      "Epoch 55/150\n",
      "369/369 [==============================] - 2s 5ms/step - loss: 0.0019 - MAE: 0.0307 - MAPE: 16.0201 - val_loss: 0.0020 - val_MAE: 0.0316 - val_MAPE: 111866.4609\n",
      "Epoch 56/150\n",
      "369/369 [==============================] - 2s 5ms/step - loss: 0.0018 - MAE: 0.0312 - MAPE: 15.6722 - val_loss: 0.0019 - val_MAE: 0.0329 - val_MAPE: 223100.6094\n",
      "Epoch 57/150\n",
      "369/369 [==============================] - 2s 5ms/step - loss: 0.0018 - MAE: 0.0307 - MAPE: 15.7616 - val_loss: 0.0017 - val_MAE: 0.0300 - val_MAPE: 125742.8750\n",
      "Epoch 58/150\n",
      "369/369 [==============================] - 2s 4ms/step - loss: 0.0017 - MAE: 0.0300 - MAPE: 15.7438 - val_loss: 0.0017 - val_MAE: 0.0303 - val_MAPE: 165831.5156\n",
      "Epoch 59/150\n",
      "369/369 [==============================] - 2s 5ms/step - loss: 0.0016 - MAE: 0.0296 - MAPE: 15.8278 - val_loss: 0.0018 - val_MAE: 0.0329 - val_MAPE: 230873.3438\n",
      "Epoch 60/150\n",
      "369/369 [==============================] - 2s 5ms/step - loss: 0.0017 - MAE: 0.0297 - MAPE: 15.0356 - val_loss: 0.0016 - val_MAE: 0.0299 - val_MAPE: 117895.9766\n",
      "Epoch 61/150\n",
      "369/369 [==============================] - 2s 5ms/step - loss: 0.0016 - MAE: 0.0298 - MAPE: 15.4390 - val_loss: 0.0018 - val_MAE: 0.0309 - val_MAPE: 130678.1641\n",
      "Epoch 62/150\n",
      "369/369 [==============================] - 2s 5ms/step - loss: 0.0016 - MAE: 0.0292 - MAPE: 15.0956 - val_loss: 0.0015 - val_MAE: 0.0285 - val_MAPE: 135218.5938\n",
      "Epoch 63/150\n",
      "369/369 [==============================] - 2s 5ms/step - loss: 0.0015 - MAE: 0.0283 - MAPE: 13.8958 - val_loss: 0.0015 - val_MAE: 0.0289 - val_MAPE: 168704.9062\n",
      "Epoch 64/150\n",
      "369/369 [==============================] - 2s 5ms/step - loss: 0.0016 - MAE: 0.0289 - MAPE: 15.8216 - val_loss: 0.0016 - val_MAE: 0.0298 - val_MAPE: 198276.0625\n",
      "Epoch 65/150\n",
      "369/369 [==============================] - 2s 5ms/step - loss: 0.0015 - MAE: 0.0288 - MAPE: 14.6031 - val_loss: 0.0016 - val_MAE: 0.0291 - val_MAPE: 175214.9688\n",
      "Epoch 66/150\n",
      "369/369 [==============================] - 2s 5ms/step - loss: 0.0015 - MAE: 0.0280 - MAPE: 14.2750 - val_loss: 0.0017 - val_MAE: 0.0307 - val_MAPE: 213179.3594\n",
      "Epoch 67/150\n",
      "369/369 [==============================] - 2s 4ms/step - loss: 0.0015 - MAE: 0.0281 - MAPE: 14.7234 - val_loss: 0.0014 - val_MAE: 0.0280 - val_MAPE: 118333.9297\n",
      "Epoch 68/150\n",
      "369/369 [==============================] - 2s 5ms/step - loss: 0.0014 - MAE: 0.0277 - MAPE: 14.0345 - val_loss: 0.0015 - val_MAE: 0.0295 - val_MAPE: 176849.7188\n",
      "Epoch 69/150\n",
      "369/369 [==============================] - 2s 5ms/step - loss: 0.0014 - MAE: 0.0277 - MAPE: 13.8133 - val_loss: 0.0014 - val_MAE: 0.0276 - val_MAPE: 141658.1562\n",
      "Epoch 70/150\n",
      "369/369 [==============================] - 2s 4ms/step - loss: 0.0014 - MAE: 0.0282 - MAPE: 14.7557 - val_loss: 0.0015 - val_MAE: 0.0291 - val_MAPE: 145321.0938\n",
      "Epoch 71/150\n",
      "369/369 [==============================] - 2s 4ms/step - loss: 0.0014 - MAE: 0.0279 - MAPE: 14.0891 - val_loss: 0.0014 - val_MAE: 0.0271 - val_MAPE: 137716.5781\n",
      "Epoch 72/150\n",
      "369/369 [==============================] - 1s 4ms/step - loss: 0.0015 - MAE: 0.0284 - MAPE: 14.2626 - val_loss: 0.0015 - val_MAE: 0.0283 - val_MAPE: 148710.2188\n",
      "Epoch 73/150\n",
      "369/369 [==============================] - 1s 4ms/step - loss: 0.0014 - MAE: 0.0283 - MAPE: 14.4410 - val_loss: 0.0015 - val_MAE: 0.0286 - val_MAPE: 189049.5469\n",
      "Epoch 74/150\n",
      "369/369 [==============================] - 2s 5ms/step - loss: 0.0014 - MAE: 0.0275 - MAPE: 14.6652 - val_loss: 0.0014 - val_MAE: 0.0275 - val_MAPE: 167831.3438\n",
      "Epoch 75/150\n",
      "369/369 [==============================] - 2s 4ms/step - loss: 0.0014 - MAE: 0.0276 - MAPE: 15.3702 - val_loss: 0.0014 - val_MAE: 0.0287 - val_MAPE: 200285.9688\n",
      "Epoch 76/150\n",
      "369/369 [==============================] - 2s 5ms/step - loss: 0.0014 - MAE: 0.0276 - MAPE: 13.6928 - val_loss: 0.0014 - val_MAE: 0.0285 - val_MAPE: 205742.3906\n",
      "Epoch 77/150\n",
      "369/369 [==============================] - 2s 5ms/step - loss: 0.0013 - MAE: 0.0269 - MAPE: 13.5328 - val_loss: 0.0013 - val_MAE: 0.0275 - val_MAPE: 156308.4531\n",
      "Epoch 78/150\n",
      "369/369 [==============================] - 2s 5ms/step - loss: 0.0014 - MAE: 0.0271 - MAPE: 14.2979 - val_loss: 0.0014 - val_MAE: 0.0282 - val_MAPE: 180492.4688\n",
      "Epoch 79/150\n",
      "369/369 [==============================] - 2s 4ms/step - loss: 0.0014 - MAE: 0.0269 - MAPE: 14.3423 - val_loss: 0.0015 - val_MAE: 0.0292 - val_MAPE: 126322.8594\n",
      "Epoch 80/150\n",
      "369/369 [==============================] - 2s 5ms/step - loss: 0.0013 - MAE: 0.0271 - MAPE: 13.8210 - val_loss: 0.0013 - val_MAE: 0.0268 - val_MAPE: 118729.1094\n",
      "Epoch 81/150\n",
      "369/369 [==============================] - 2s 5ms/step - loss: 0.0013 - MAE: 0.0268 - MAPE: 13.2953 - val_loss: 0.0013 - val_MAE: 0.0275 - val_MAPE: 157360.2969\n",
      "Epoch 82/150\n",
      "369/369 [==============================] - 2s 5ms/step - loss: 0.0013 - MAE: 0.0269 - MAPE: 13.5365 - val_loss: 0.0012 - val_MAE: 0.0263 - val_MAPE: 150467.8750\n",
      "Epoch 83/150\n",
      "369/369 [==============================] - 2s 5ms/step - loss: 0.0013 - MAE: 0.0265 - MAPE: 14.5824 - val_loss: 0.0013 - val_MAE: 0.0267 - val_MAPE: 123099.4219\n",
      "Epoch 84/150\n",
      "369/369 [==============================] - 2s 5ms/step - loss: 0.0013 - MAE: 0.0269 - MAPE: 14.0298 - val_loss: 0.0015 - val_MAE: 0.0297 - val_MAPE: 234055.3750\n",
      "Epoch 85/150\n",
      "369/369 [==============================] - 2s 5ms/step - loss: 0.0013 - MAE: 0.0268 - MAPE: 13.8711 - val_loss: 0.0015 - val_MAE: 0.0300 - val_MAPE: 246483.6562\n",
      "Epoch 86/150\n",
      "369/369 [==============================] - 2s 5ms/step - loss: 0.0013 - MAE: 0.0270 - MAPE: 14.3590 - val_loss: 0.0015 - val_MAE: 0.0299 - val_MAPE: 207943.8125\n",
      "Epoch 87/150\n",
      "369/369 [==============================] - 2s 5ms/step - loss: 0.0013 - MAE: 0.0262 - MAPE: 13.1109 - val_loss: 0.0013 - val_MAE: 0.0269 - val_MAPE: 173003.3906\n",
      "Epoch 88/150\n",
      "369/369 [==============================] - 2s 5ms/step - loss: 0.0013 - MAE: 0.0263 - MAPE: 13.4301 - val_loss: 0.0014 - val_MAE: 0.0277 - val_MAPE: 154704.9219\n",
      "Epoch 89/150\n",
      "369/369 [==============================] - 2s 5ms/step - loss: 0.0013 - MAE: 0.0264 - MAPE: 13.2069 - val_loss: 0.0016 - val_MAE: 0.0299 - val_MAPE: 111604.2109\n",
      "Epoch 90/150\n",
      "369/369 [==============================] - 2s 5ms/step - loss: 0.0013 - MAE: 0.0267 - MAPE: 13.9683 - val_loss: 0.0014 - val_MAE: 0.0275 - val_MAPE: 139097.0781\n",
      "Epoch 91/150\n",
      "369/369 [==============================] - 2s 5ms/step - loss: 0.0012 - MAE: 0.0263 - MAPE: 12.8830 - val_loss: 0.0015 - val_MAE: 0.0293 - val_MAPE: 74252.2422\n",
      "Epoch 92/150\n",
      "369/369 [==============================] - 2s 5ms/step - loss: 0.0012 - MAE: 0.0265 - MAPE: 13.2673 - val_loss: 0.0013 - val_MAE: 0.0277 - val_MAPE: 137448.4219\n",
      "Epoch 93/150\n",
      "369/369 [==============================] - 2s 5ms/step - loss: 0.0012 - MAE: 0.0261 - MAPE: 14.5204 - val_loss: 0.0013 - val_MAE: 0.0260 - val_MAPE: 61634.1562\n",
      "Epoch 94/150\n",
      "369/369 [==============================] - 2s 5ms/step - loss: 0.0012 - MAE: 0.0261 - MAPE: 13.5991 - val_loss: 0.0013 - val_MAE: 0.0269 - val_MAPE: 80233.9766\n",
      "Epoch 95/150\n",
      "369/369 [==============================] - 2s 5ms/step - loss: 0.0012 - MAE: 0.0265 - MAPE: 14.0156 - val_loss: 0.0013 - val_MAE: 0.0276 - val_MAPE: 147371.5000\n",
      "Epoch 96/150\n",
      "369/369 [==============================] - 2s 5ms/step - loss: 0.0012 - MAE: 0.0261 - MAPE: 14.1686 - val_loss: 0.0012 - val_MAE: 0.0256 - val_MAPE: 109705.6328\n",
      "Epoch 97/150\n",
      "369/369 [==============================] - 2s 5ms/step - loss: 0.0012 - MAE: 0.0265 - MAPE: 13.8338 - val_loss: 0.0013 - val_MAE: 0.0260 - val_MAPE: 76136.7266\n",
      "Epoch 98/150\n",
      "369/369 [==============================] - 2s 5ms/step - loss: 0.0012 - MAE: 0.0261 - MAPE: 13.3292 - val_loss: 0.0013 - val_MAE: 0.0270 - val_MAPE: 153433.3125\n",
      "Epoch 99/150\n",
      "369/369 [==============================] - 2s 5ms/step - loss: 0.0012 - MAE: 0.0261 - MAPE: 13.6627 - val_loss: 0.0012 - val_MAE: 0.0270 - val_MAPE: 139733.7188\n",
      "Epoch 100/150\n",
      "369/369 [==============================] - 2s 5ms/step - loss: 0.0012 - MAE: 0.0261 - MAPE: 13.9161 - val_loss: 0.0013 - val_MAE: 0.0267 - val_MAPE: 146682.7656\n",
      "Epoch 101/150\n",
      "369/369 [==============================] - 2s 5ms/step - loss: 0.0012 - MAE: 0.0260 - MAPE: 13.6520 - val_loss: 0.0013 - val_MAE: 0.0266 - val_MAPE: 79410.1562\n",
      "Epoch 102/150\n",
      "369/369 [==============================] - 2s 5ms/step - loss: 0.0012 - MAE: 0.0260 - MAPE: 13.9062 - val_loss: 0.0013 - val_MAE: 0.0277 - val_MAPE: 137018.6875\n",
      "Epoch 103/150\n",
      "369/369 [==============================] - 2s 5ms/step - loss: 0.0012 - MAE: 0.0260 - MAPE: 13.5320 - val_loss: 0.0014 - val_MAE: 0.0274 - val_MAPE: 62915.7305\n",
      "Epoch 104/150\n",
      "369/369 [==============================] - 2s 5ms/step - loss: 0.0012 - MAE: 0.0257 - MAPE: 13.5717 - val_loss: 0.0012 - val_MAE: 0.0257 - val_MAPE: 75578.7969\n",
      "Epoch 105/150\n",
      "369/369 [==============================] - 1s 4ms/step - loss: 0.0012 - MAE: 0.0254 - MAPE: 12.5704 - val_loss: 0.0011 - val_MAE: 0.0249 - val_MAPE: 100543.2969\n",
      "Epoch 106/150\n",
      "369/369 [==============================] - 1s 3ms/step - loss: 0.0012 - MAE: 0.0255 - MAPE: 12.7601 - val_loss: 0.0014 - val_MAE: 0.0278 - val_MAPE: 109111.1875\n",
      "Epoch 107/150\n",
      "369/369 [==============================] - 2s 4ms/step - loss: 0.0012 - MAE: 0.0259 - MAPE: 13.4857 - val_loss: 0.0012 - val_MAE: 0.0259 - val_MAPE: 135181.2500\n",
      "Epoch 108/150\n",
      "369/369 [==============================] - 2s 5ms/step - loss: 0.0011 - MAE: 0.0250 - MAPE: 12.9517 - val_loss: 0.0012 - val_MAE: 0.0265 - val_MAPE: 121353.1719\n",
      "Epoch 109/150\n",
      "369/369 [==============================] - 2s 5ms/step - loss: 0.0012 - MAE: 0.0257 - MAPE: 13.2253 - val_loss: 0.0012 - val_MAE: 0.0259 - val_MAPE: 127791.5156\n",
      "Epoch 110/150\n",
      "369/369 [==============================] - 2s 4ms/step - loss: 0.0011 - MAE: 0.0255 - MAPE: 12.6444 - val_loss: 0.0012 - val_MAE: 0.0269 - val_MAPE: 126029.9609\n",
      "Epoch 111/150\n",
      "369/369 [==============================] - 2s 5ms/step - loss: 0.0012 - MAE: 0.0256 - MAPE: 12.9805 - val_loss: 0.0012 - val_MAE: 0.0263 - val_MAPE: 152721.9219\n",
      "Epoch 112/150\n",
      "369/369 [==============================] - 2s 5ms/step - loss: 0.0011 - MAE: 0.0260 - MAPE: 14.1374 - val_loss: 0.0012 - val_MAE: 0.0261 - val_MAPE: 97167.8203\n",
      "Epoch 113/150\n",
      "369/369 [==============================] - 2s 5ms/step - loss: 0.0011 - MAE: 0.0254 - MAPE: 13.1881 - val_loss: 0.0014 - val_MAE: 0.0289 - val_MAPE: 171536.1250\n",
      "Epoch 114/150\n",
      "369/369 [==============================] - 2s 5ms/step - loss: 0.0011 - MAE: 0.0257 - MAPE: 13.8599 - val_loss: 0.0012 - val_MAE: 0.0266 - val_MAPE: 124255.0625\n",
      "Epoch 115/150\n",
      "369/369 [==============================] - 2s 5ms/step - loss: 0.0011 - MAE: 0.0254 - MAPE: 12.9055 - val_loss: 0.0015 - val_MAE: 0.0297 - val_MAPE: 177445.9688\n",
      "Epoch 116/150\n",
      "369/369 [==============================] - 2s 5ms/step - loss: 0.0011 - MAE: 0.0257 - MAPE: 13.9162 - val_loss: 0.0013 - val_MAE: 0.0272 - val_MAPE: 154193.2969\n",
      "Epoch 117/150\n",
      "369/369 [==============================] - 2s 4ms/step - loss: 0.0011 - MAE: 0.0255 - MAPE: 13.2518 - val_loss: 0.0012 - val_MAE: 0.0270 - val_MAPE: 94629.2422\n",
      "Epoch 118/150\n",
      "369/369 [==============================] - 2s 5ms/step - loss: 0.0011 - MAE: 0.0253 - MAPE: 13.0495 - val_loss: 0.0012 - val_MAE: 0.0267 - val_MAPE: 102882.0234\n",
      "Epoch 119/150\n",
      "369/369 [==============================] - 2s 5ms/step - loss: 0.0011 - MAE: 0.0253 - MAPE: 13.6893 - val_loss: 0.0012 - val_MAE: 0.0263 - val_MAPE: 132734.9688\n",
      "Epoch 120/150\n",
      "369/369 [==============================] - 2s 5ms/step - loss: 0.0011 - MAE: 0.0253 - MAPE: 13.0245 - val_loss: 0.0012 - val_MAE: 0.0263 - val_MAPE: 127187.8672\n",
      "Epoch 121/150\n",
      "369/369 [==============================] - 2s 5ms/step - loss: 0.0011 - MAE: 0.0255 - MAPE: 13.0024 - val_loss: 0.0013 - val_MAE: 0.0270 - val_MAPE: 157300.5469\n",
      "Epoch 122/150\n",
      "369/369 [==============================] - 2s 5ms/step - loss: 0.0011 - MAE: 0.0250 - MAPE: 13.2372 - val_loss: 0.0012 - val_MAE: 0.0265 - val_MAPE: 85793.6406\n",
      "Epoch 123/150\n",
      "369/369 [==============================] - 2s 5ms/step - loss: 0.0011 - MAE: 0.0252 - MAPE: 13.3341 - val_loss: 0.0011 - val_MAE: 0.0254 - val_MAPE: 138402.8125\n",
      "Epoch 124/150\n",
      "369/369 [==============================] - 2s 5ms/step - loss: 0.0011 - MAE: 0.0251 - MAPE: 13.6555 - val_loss: 0.0012 - val_MAE: 0.0265 - val_MAPE: 141525.1562\n",
      "Epoch 125/150\n",
      "369/369 [==============================] - 2s 5ms/step - loss: 0.0011 - MAE: 0.0254 - MAPE: 13.9633 - val_loss: 0.0011 - val_MAE: 0.0248 - val_MAPE: 162866.1875\n",
      "Epoch 126/150\n",
      "369/369 [==============================] - 2s 5ms/step - loss: 0.0011 - MAE: 0.0251 - MAPE: 12.7913 - val_loss: 0.0011 - val_MAE: 0.0253 - val_MAPE: 105858.2656\n",
      "Epoch 127/150\n",
      "369/369 [==============================] - 2s 5ms/step - loss: 0.0011 - MAE: 0.0248 - MAPE: 12.8182 - val_loss: 0.0011 - val_MAE: 0.0252 - val_MAPE: 147007.1406\n",
      "Epoch 128/150\n",
      "369/369 [==============================] - 2s 5ms/step - loss: 0.0011 - MAE: 0.0249 - MAPE: 12.5882 - val_loss: 0.0014 - val_MAE: 0.0283 - val_MAPE: 145149.0000\n",
      "Epoch 129/150\n",
      "369/369 [==============================] - 2s 5ms/step - loss: 0.0011 - MAE: 0.0250 - MAPE: 12.9190 - val_loss: 0.0010 - val_MAE: 0.0241 - val_MAPE: 112948.5156\n",
      "Epoch 130/150\n",
      "369/369 [==============================] - 2s 5ms/step - loss: 0.0011 - MAE: 0.0247 - MAPE: 13.0321 - val_loss: 0.0011 - val_MAE: 0.0261 - val_MAPE: 148962.5625\n",
      "Epoch 131/150\n",
      "369/369 [==============================] - 2s 5ms/step - loss: 0.0011 - MAE: 0.0254 - MAPE: 13.6040 - val_loss: 0.0011 - val_MAE: 0.0257 - val_MAPE: 120903.0938\n",
      "Epoch 132/150\n",
      "369/369 [==============================] - 2s 4ms/step - loss: 0.0011 - MAE: 0.0251 - MAPE: 13.0491 - val_loss: 0.0011 - val_MAE: 0.0247 - val_MAPE: 123281.2031\n",
      "Epoch 133/150\n",
      "369/369 [==============================] - 1s 4ms/step - loss: 0.0010 - MAE: 0.0245 - MAPE: 12.8584 - val_loss: 0.0013 - val_MAE: 0.0281 - val_MAPE: 110637.1641\n",
      "Epoch 134/150\n",
      "369/369 [==============================] - 1s 3ms/step - loss: 0.0011 - MAE: 0.0256 - MAPE: 13.6501 - val_loss: 0.0011 - val_MAE: 0.0257 - val_MAPE: 112931.7891\n",
      "Epoch 135/150\n",
      "369/369 [==============================] - 1s 4ms/step - loss: 0.0011 - MAE: 0.0247 - MAPE: 13.2240 - val_loss: 0.0011 - val_MAE: 0.0260 - val_MAPE: 87381.1484\n",
      "Epoch 136/150\n",
      "369/369 [==============================] - 1s 3ms/step - loss: 0.0011 - MAE: 0.0252 - MAPE: 13.1973 - val_loss: 0.0011 - val_MAE: 0.0245 - val_MAPE: 137646.1406\n",
      "Epoch 137/150\n",
      "369/369 [==============================] - 2s 5ms/step - loss: 0.0011 - MAE: 0.0251 - MAPE: 13.0502 - val_loss: 0.0012 - val_MAE: 0.0274 - val_MAPE: 161780.3125\n",
      "Epoch 138/150\n",
      "369/369 [==============================] - 2s 5ms/step - loss: 0.0010 - MAE: 0.0246 - MAPE: 13.2250 - val_loss: 0.0011 - val_MAE: 0.0250 - val_MAPE: 164397.2344\n",
      "Epoch 139/150\n",
      "369/369 [==============================] - 2s 5ms/step - loss: 0.0011 - MAE: 0.0247 - MAPE: 13.1958 - val_loss: 0.0011 - val_MAE: 0.0250 - val_MAPE: 147136.1406\n",
      "Epoch 140/150\n",
      "369/369 [==============================] - 2s 5ms/step - loss: 0.0010 - MAE: 0.0249 - MAPE: 13.2297 - val_loss: 0.0011 - val_MAE: 0.0251 - val_MAPE: 142835.1719\n",
      "Epoch 141/150\n",
      "369/369 [==============================] - 2s 5ms/step - loss: 0.0010 - MAE: 0.0245 - MAPE: 13.3403 - val_loss: 0.0010 - val_MAE: 0.0245 - val_MAPE: 107894.6641\n",
      "Epoch 142/150\n",
      "369/369 [==============================] - 2s 5ms/step - loss: 0.0010 - MAE: 0.0247 - MAPE: 13.0139 - val_loss: 0.0011 - val_MAE: 0.0249 - val_MAPE: 146739.8906\n",
      "Epoch 143/150\n",
      "369/369 [==============================] - 2s 5ms/step - loss: 0.0010 - MAE: 0.0240 - MAPE: 11.8587 - val_loss: 0.0012 - val_MAE: 0.0254 - val_MAPE: 55561.6992\n",
      "Epoch 144/150\n",
      "369/369 [==============================] - 2s 5ms/step - loss: 0.0011 - MAE: 0.0252 - MAPE: 13.6627 - val_loss: 0.0012 - val_MAE: 0.0264 - val_MAPE: 112386.9609\n",
      "Epoch 145/150\n",
      "369/369 [==============================] - 2s 5ms/step - loss: 0.0010 - MAE: 0.0242 - MAPE: 12.8140 - val_loss: 0.0013 - val_MAE: 0.0284 - val_MAPE: 131646.0938\n",
      "Epoch 146/150\n",
      "369/369 [==============================] - 2s 5ms/step - loss: 0.0010 - MAE: 0.0252 - MAPE: 13.2966 - val_loss: 0.0012 - val_MAE: 0.0274 - val_MAPE: 158121.4062\n",
      "Epoch 147/150\n",
      "369/369 [==============================] - 2s 5ms/step - loss: 0.0010 - MAE: 0.0244 - MAPE: 13.4689 - val_loss: 0.0012 - val_MAE: 0.0268 - val_MAPE: 144508.6562\n",
      "Epoch 148/150\n",
      "369/369 [==============================] - 2s 5ms/step - loss: 0.0011 - MAE: 0.0250 - MAPE: 13.5938 - val_loss: 0.0011 - val_MAE: 0.0242 - val_MAPE: 78570.8828\n",
      "Epoch 149/150\n",
      "369/369 [==============================] - 2s 5ms/step - loss: 0.0011 - MAE: 0.0251 - MAPE: 13.9420 - val_loss: 0.0011 - val_MAE: 0.0259 - val_MAPE: 131319.8594\n",
      "Epoch 150/150\n",
      "369/369 [==============================] - 2s 5ms/step - loss: 0.0010 - MAE: 0.0243 - MAPE: 12.7480 - val_loss: 0.0012 - val_MAE: 0.0263 - val_MAPE: 80857.9375\n"
     ]
    }
   ],
   "source": [
    "# Initialize the model. \n",
    "model = Sequential()\n",
    "# For each layer you need to add the number of Neurons and the activation. \n",
    "# We have 27 features so that goes in input_shape\n",
    "model.add(Dense(4, input_shape=(12,)))\n",
    "model.add(Activation(activation=\"sigmoid\"))\n",
    "model.add(Dense(1))\n",
    "model.summary()\n",
    "\n",
    "model.compile(optimizer=\"Adam\", loss=[\"MSE\"], metrics=[\"MAE\", \"MAPE\"])\n",
    "history = model.fit(X_train, y_train, batch_size=2, epochs=150, validation_split=0.25, shuffle=True, verbose=1)"
   ]
  },
  {
   "cell_type": "code",
   "execution_count": 23,
   "id": "18edf729",
   "metadata": {},
   "outputs": [
    {
     "data": {
      "image/png": "[encoded data removed]",
      "text/plain": [
       "<Figure size 360x360 with 1 Axes>"
      ]
     },
     "metadata": {
      "needs_background": "light"
     },
     "output_type": "display_data"
    }
   ],
   "source": [
    "plot_model_history(history)"
   ]
  },
  {
   "cell_type": "code",
   "execution_count": 24,
   "id": "0f6fd998",
   "metadata": {},
   "outputs": [],
   "source": [
    "#np.shape(X_test_hot)\n",
    "y_keras = model.predict(X_test, batch_size=1, verbose=0)"
   ]
  },
  {
   "cell_type": "code",
   "execution_count": 25,
   "id": "a71abf4f",
   "metadata": {},
   "outputs": [
    {
     "data": {
      "image/png": "[encoded data removed]",
      "text/plain": [
       "<Figure size 432x288 with 1 Axes>"
      ]
     },
     "metadata": {
      "needs_background": "light"
     },
     "output_type": "display_data"
    }
   ],
   "source": [
    "plt.scatter(scaler_y.inverse_transform(y_keras), y_test, s = 3, color = 'purple')\n",
    "plt.xlabel('Predicted Load GWh')\n",
    "plt.ylabel('Actual Load GWh')\n",
    "plt.plot(np.arange(200,400), np.arange(200,400), color = \"r\")\n",
    "plt.title(\"Predicted vs Actual Load for just Temperature data\")\n",
    "plt.savefig(\"Plots/NNAllDataScatter2.png\")\n",
    "plt.show()"
   ]
  },
  {
   "cell_type": "code",
   "execution_count": 26,
   "id": "fbbee572",
   "metadata": {},
   "outputs": [
    {
     "name": "stdout",
     "output_type": "stream",
     "text": [
      "MAPE = 0.024826865643262863\n"
     ]
    }
   ],
   "source": [
    "print(f\"MAPE = {MAPE(y_test, scaler_y.inverse_transform(y_keras))}\")"
   ]
  },
  {
   "cell_type": "code",
   "execution_count": 16,
   "id": "f9be3cda",
   "metadata": {},
   "outputs": [],
   "source": [
    "#!pip install graphviz\n",
    "#!pip install pydot"
   ]
  },
  {
   "cell_type": "code",
   "execution_count": 17,
   "id": "4b87a90d",
   "metadata": {},
   "outputs": [
    {
     "data": {
      "image/png": "[encoded data removed]",
      "text/plain": [
       "<IPython.core.display.Image object>"
      ]
     },
     "execution_count": 17,
     "metadata": {},
     "output_type": "execute_result"
    }
   ],
   "source": [
    "plot_model(model, to_file=\"Plots/BasicNNAllData.png\",\n",
    "           show_shapes=True, show_layer_activations=True)"
   ]
  },
  {
   "cell_type": "code",
   "execution_count": null,
   "id": "70a5e8a7",
   "metadata": {},
   "outputs": [],
   "source": []
  }
 ],
 "metadata": {
  "kernelspec": {
   "display_name": "Python 3 (ipykernel)",
   "language": "python",
   "name": "python3"
  },
  "language_info": {
   "codemirror_mode": {
    "name": "ipython",
    "version": 3
   },
   "file_extension": ".py",
   "mimetype": "text/x-python",
   "name": "python",
   "nbconvert_exporter": "python",
   "pygments_lexer": "ipython3",
   "version": "3.9.5"
  },
  "toc": {
   "base_numbering": 1,
   "nav_menu": {},
   "number_sections": true,
   "sideBar": true,
   "skip_h1_title": false,
   "title_cell": "Table of Contents",
   "title_sidebar": "Contents",
   "toc_cell": false,
   "toc_position": {},
   "toc_section_display": true,
   "toc_window_display": true
  }
 },
 "nbformat": 4,
 "nbformat_minor": 5
}
